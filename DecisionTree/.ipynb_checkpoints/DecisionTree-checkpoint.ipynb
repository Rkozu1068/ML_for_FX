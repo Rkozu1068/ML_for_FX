{
 "cells": [
  {
   "cell_type": "markdown",
   "metadata": {},
   "source": [
    "# 決定木によるFX予想\n",
    "\n",
    "決定木は特徴量を分析して、特徴量の値に応じてターゲットを分岐して予測。  \n",
    "どの特徴量で分岐をするのか？分岐するときの値は？などの細かい部分をアルゴリズムで計算を行う\n",
    "\n",
    "【メリット】\n",
    "- 仕組みが非常に簡単で理解しやすい\n",
    "- 特徴量の正規化が不要\n",
    "- 計算コストが低い\n",
    "- 分類と回帰が行える\n",
    "- 予測の説明が出来る！（超重要）\n",
    "\n",
    "【デメリット】\n",
    "- 気をつけないと過学習する\n",
    "- 単純な仕組みなので精度はさほど高くない\n",
    "\n",
    "メモ  \n",
    "Homebrewをインストールしたらgraphvizのgraph = graphviz.Source(dot_data)が使えるようになった\n",
    "\n",
    "参考文献(ほぼまるパクリ)  \n",
    "http://www.algo-fx-blog.com/decision-tree-classification-fx/  "
   ]
  },
  {
   "cell_type": "markdown",
   "metadata": {},
   "source": [
    "## STEP1 ライブラリとデータの読み込み"
   ]
  },
  {
   "cell_type": "code",
   "execution_count": 1,
   "metadata": {},
   "outputs": [
    {
     "name": "stdout",
     "output_type": "stream",
     "text": [
      "0.13.2\n"
     ]
    }
   ],
   "source": [
    "# データ処理のライブラリ\n",
    "import pandas as pd\n",
    "import numpy as np \n",
    " \n",
    "# データ可視化のライブラリ\n",
    "import matplotlib.pyplot as plt\n",
    " \n",
    "# 機械学習ライブラリ\n",
    "from sklearn.tree import DecisionTreeClassifier\n",
    "from sklearn import tree\n",
    "from sklearn.metrics import confusion_matrix\n",
    "from sklearn.metrics import accuracy_score\n",
    "from sklearn.model_selection import train_test_split\n",
    "\n",
    "# Enter your code here\n",
    "from sklearn.tree import DecisionTreeRegressor#regressor 回帰問題\n",
    "\n",
    "# graphvizのインポート\n",
    "import graphviz\n",
    "# バージョンの確認\n",
    "print(graphviz.__version__)"
   ]
  },
  {
   "cell_type": "code",
   "execution_count": 2,
   "metadata": {},
   "outputs": [],
   "source": [
    "# CSVファイルの読み込み\n",
    "df = pd.read_csv('usd_jpy_api.csv')"
   ]
  },
  {
   "cell_type": "code",
   "execution_count": 3,
   "metadata": {},
   "outputs": [
    {
     "data": {
      "text/html": [
       "<div>\n",
       "<style scoped>\n",
       "    .dataframe tbody tr th:only-of-type {\n",
       "        vertical-align: middle;\n",
       "    }\n",
       "\n",
       "    .dataframe tbody tr th {\n",
       "        vertical-align: top;\n",
       "    }\n",
       "\n",
       "    .dataframe thead th {\n",
       "        text-align: right;\n",
       "    }\n",
       "</style>\n",
       "<table border=\"1\" class=\"dataframe\">\n",
       "  <thead>\n",
       "    <tr style=\"text-align: right;\">\n",
       "      <th></th>\n",
       "      <th>time</th>\n",
       "      <th>close</th>\n",
       "      <th>open</th>\n",
       "      <th>high</th>\n",
       "      <th>low</th>\n",
       "      <th>volume</th>\n",
       "    </tr>\n",
       "  </thead>\n",
       "  <tbody>\n",
       "    <tr>\n",
       "      <td>0</td>\n",
       "      <td>2016/08/19 06:00:00</td>\n",
       "      <td>100.256</td>\n",
       "      <td>99.919</td>\n",
       "      <td>100.471</td>\n",
       "      <td>99.887</td>\n",
       "      <td>30965</td>\n",
       "    </tr>\n",
       "    <tr>\n",
       "      <td>1</td>\n",
       "      <td>2016/08/22 06:00:00</td>\n",
       "      <td>100.335</td>\n",
       "      <td>100.832</td>\n",
       "      <td>100.944</td>\n",
       "      <td>100.221</td>\n",
       "      <td>32920</td>\n",
       "    </tr>\n",
       "    <tr>\n",
       "      <td>2</td>\n",
       "      <td>2016/08/23 06:00:00</td>\n",
       "      <td>100.253</td>\n",
       "      <td>100.339</td>\n",
       "      <td>100.405</td>\n",
       "      <td>99.950</td>\n",
       "      <td>26069</td>\n",
       "    </tr>\n",
       "    <tr>\n",
       "      <td>3</td>\n",
       "      <td>2016/08/24 06:00:00</td>\n",
       "      <td>100.460</td>\n",
       "      <td>100.270</td>\n",
       "      <td>100.619</td>\n",
       "      <td>100.104</td>\n",
       "      <td>22340</td>\n",
       "    </tr>\n",
       "    <tr>\n",
       "      <td>4</td>\n",
       "      <td>2016/08/25 06:00:00</td>\n",
       "      <td>100.546</td>\n",
       "      <td>100.464</td>\n",
       "      <td>100.627</td>\n",
       "      <td>100.314</td>\n",
       "      <td>17224</td>\n",
       "    </tr>\n",
       "  </tbody>\n",
       "</table>\n",
       "</div>"
      ],
      "text/plain": [
       "                  time    close     open     high      low  volume\n",
       "0  2016/08/19 06:00:00  100.256   99.919  100.471   99.887   30965\n",
       "1  2016/08/22 06:00:00  100.335  100.832  100.944  100.221   32920\n",
       "2  2016/08/23 06:00:00  100.253  100.339  100.405   99.950   26069\n",
       "3  2016/08/24 06:00:00  100.460  100.270  100.619  100.104   22340\n",
       "4  2016/08/25 06:00:00  100.546  100.464  100.627  100.314   17224"
      ]
     },
     "execution_count": 3,
     "metadata": {},
     "output_type": "execute_result"
    }
   ],
   "source": [
    "df.head()"
   ]
  },
  {
   "cell_type": "code",
   "execution_count": 4,
   "metadata": {},
   "outputs": [
    {
     "data": {
      "text/html": [
       "<div>\n",
       "<style scoped>\n",
       "    .dataframe tbody tr th:only-of-type {\n",
       "        vertical-align: middle;\n",
       "    }\n",
       "\n",
       "    .dataframe tbody tr th {\n",
       "        vertical-align: top;\n",
       "    }\n",
       "\n",
       "    .dataframe thead th {\n",
       "        text-align: right;\n",
       "    }\n",
       "</style>\n",
       "<table border=\"1\" class=\"dataframe\">\n",
       "  <thead>\n",
       "    <tr style=\"text-align: right;\">\n",
       "      <th></th>\n",
       "      <th>time</th>\n",
       "      <th>close</th>\n",
       "      <th>open</th>\n",
       "      <th>high</th>\n",
       "      <th>low</th>\n",
       "      <th>volume</th>\n",
       "    </tr>\n",
       "  </thead>\n",
       "  <tbody>\n",
       "    <tr>\n",
       "      <td>495</td>\n",
       "      <td>2018/07/17 06:00:00</td>\n",
       "      <td>112.908</td>\n",
       "      <td>112.320</td>\n",
       "      <td>112.933</td>\n",
       "      <td>112.231</td>\n",
       "      <td>19645</td>\n",
       "    </tr>\n",
       "    <tr>\n",
       "      <td>496</td>\n",
       "      <td>2018/07/18 06:00:00</td>\n",
       "      <td>112.866</td>\n",
       "      <td>112.914</td>\n",
       "      <td>113.144</td>\n",
       "      <td>112.723</td>\n",
       "      <td>17432</td>\n",
       "    </tr>\n",
       "    <tr>\n",
       "      <td>497</td>\n",
       "      <td>2018/07/19 06:00:00</td>\n",
       "      <td>112.501</td>\n",
       "      <td>112.887</td>\n",
       "      <td>113.187</td>\n",
       "      <td>112.072</td>\n",
       "      <td>26697</td>\n",
       "    </tr>\n",
       "    <tr>\n",
       "      <td>498</td>\n",
       "      <td>2018/07/20 06:00:00</td>\n",
       "      <td>111.474</td>\n",
       "      <td>112.504</td>\n",
       "      <td>112.631</td>\n",
       "      <td>111.401</td>\n",
       "      <td>33445</td>\n",
       "    </tr>\n",
       "    <tr>\n",
       "      <td>499</td>\n",
       "      <td>2018/07/23 06:00:00</td>\n",
       "      <td>111.164</td>\n",
       "      <td>111.420</td>\n",
       "      <td>111.523</td>\n",
       "      <td>110.760</td>\n",
       "      <td>16040</td>\n",
       "    </tr>\n",
       "  </tbody>\n",
       "</table>\n",
       "</div>"
      ],
      "text/plain": [
       "                    time    close     open     high      low  volume\n",
       "495  2018/07/17 06:00:00  112.908  112.320  112.933  112.231   19645\n",
       "496  2018/07/18 06:00:00  112.866  112.914  113.144  112.723   17432\n",
       "497  2018/07/19 06:00:00  112.501  112.887  113.187  112.072   26697\n",
       "498  2018/07/20 06:00:00  111.474  112.504  112.631  111.401   33445\n",
       "499  2018/07/23 06:00:00  111.164  111.420  111.523  110.760   16040"
      ]
     },
     "execution_count": 4,
     "metadata": {},
     "output_type": "execute_result"
    }
   ],
   "source": [
    "df.tail()"
   ]
  },
  {
   "cell_type": "code",
   "execution_count": 5,
   "metadata": {},
   "outputs": [
    {
     "data": {
      "text/html": [
       "<div>\n",
       "<style scoped>\n",
       "    .dataframe tbody tr th:only-of-type {\n",
       "        vertical-align: middle;\n",
       "    }\n",
       "\n",
       "    .dataframe tbody tr th {\n",
       "        vertical-align: top;\n",
       "    }\n",
       "\n",
       "    .dataframe thead th {\n",
       "        text-align: right;\n",
       "    }\n",
       "</style>\n",
       "<table border=\"1\" class=\"dataframe\">\n",
       "  <thead>\n",
       "    <tr style=\"text-align: right;\">\n",
       "      <th></th>\n",
       "      <th>Time</th>\n",
       "      <th>Close</th>\n",
       "      <th>Open</th>\n",
       "      <th>High</th>\n",
       "      <th>Low</th>\n",
       "      <th>Volume</th>\n",
       "    </tr>\n",
       "  </thead>\n",
       "  <tbody>\n",
       "    <tr>\n",
       "      <td>0</td>\n",
       "      <td>2016/08/19 06:00:00</td>\n",
       "      <td>100.256</td>\n",
       "      <td>99.919</td>\n",
       "      <td>100.471</td>\n",
       "      <td>99.887</td>\n",
       "      <td>30965</td>\n",
       "    </tr>\n",
       "    <tr>\n",
       "      <td>1</td>\n",
       "      <td>2016/08/22 06:00:00</td>\n",
       "      <td>100.335</td>\n",
       "      <td>100.832</td>\n",
       "      <td>100.944</td>\n",
       "      <td>100.221</td>\n",
       "      <td>32920</td>\n",
       "    </tr>\n",
       "    <tr>\n",
       "      <td>2</td>\n",
       "      <td>2016/08/23 06:00:00</td>\n",
       "      <td>100.253</td>\n",
       "      <td>100.339</td>\n",
       "      <td>100.405</td>\n",
       "      <td>99.950</td>\n",
       "      <td>26069</td>\n",
       "    </tr>\n",
       "    <tr>\n",
       "      <td>3</td>\n",
       "      <td>2016/08/24 06:00:00</td>\n",
       "      <td>100.460</td>\n",
       "      <td>100.270</td>\n",
       "      <td>100.619</td>\n",
       "      <td>100.104</td>\n",
       "      <td>22340</td>\n",
       "    </tr>\n",
       "    <tr>\n",
       "      <td>4</td>\n",
       "      <td>2016/08/25 06:00:00</td>\n",
       "      <td>100.546</td>\n",
       "      <td>100.464</td>\n",
       "      <td>100.627</td>\n",
       "      <td>100.314</td>\n",
       "      <td>17224</td>\n",
       "    </tr>\n",
       "  </tbody>\n",
       "</table>\n",
       "</div>"
      ],
      "text/plain": [
       "                  Time    Close     Open     High      Low  Volume\n",
       "0  2016/08/19 06:00:00  100.256   99.919  100.471   99.887   30965\n",
       "1  2016/08/22 06:00:00  100.335  100.832  100.944  100.221   32920\n",
       "2  2016/08/23 06:00:00  100.253  100.339  100.405   99.950   26069\n",
       "3  2016/08/24 06:00:00  100.460  100.270  100.619  100.104   22340\n",
       "4  2016/08/25 06:00:00  100.546  100.464  100.627  100.314   17224"
      ]
     },
     "execution_count": 5,
     "metadata": {},
     "output_type": "execute_result"
    }
   ],
   "source": [
    "#df.index.name = 'Date'# 必須\n",
    "df = df.rename(columns={'time': 'Time','close': 'Close', 'open': 'Open', 'high': 'High', 'low': 'Low', 'volume': 'Volume'})# 必須\n",
    "df.head()"
   ]
  },
  {
   "cell_type": "code",
   "execution_count": 6,
   "metadata": {},
   "outputs": [
    {
     "data": {
      "text/plain": [
       "(500, 6)"
      ]
     },
     "execution_count": 6,
     "metadata": {},
     "output_type": "execute_result"
    }
   ],
   "source": [
    "df.shape"
   ]
  },
  {
   "cell_type": "markdown",
   "metadata": {},
   "source": [
    "## STEP2 データの前処理\n",
    "\n",
    "今回は当日の終値、始値、高値、安値、取引高を特徴量として、翌日の終値が上昇するか下降するかを予測。  \n",
    "<span style=\"color: red; \">詰まるところここの設定が**要**？</span>"
   ]
  },
  {
   "cell_type": "code",
   "execution_count": 7,
   "metadata": {},
   "outputs": [
    {
     "data": {
      "text/html": [
       "<div>\n",
       "<style scoped>\n",
       "    .dataframe tbody tr th:only-of-type {\n",
       "        vertical-align: middle;\n",
       "    }\n",
       "\n",
       "    .dataframe tbody tr th {\n",
       "        vertical-align: top;\n",
       "    }\n",
       "\n",
       "    .dataframe thead th {\n",
       "        text-align: right;\n",
       "    }\n",
       "</style>\n",
       "<table border=\"1\" class=\"dataframe\">\n",
       "  <thead>\n",
       "    <tr style=\"text-align: right;\">\n",
       "      <th></th>\n",
       "      <th>Time</th>\n",
       "      <th>Close</th>\n",
       "      <th>Open</th>\n",
       "      <th>High</th>\n",
       "      <th>Low</th>\n",
       "      <th>Volume</th>\n",
       "      <th>close+1</th>\n",
       "      <th>diff</th>\n",
       "    </tr>\n",
       "  </thead>\n",
       "  <tbody>\n",
       "    <tr>\n",
       "      <td>494</td>\n",
       "      <td>2018/07/16 06:00:00</td>\n",
       "      <td>112.320</td>\n",
       "      <td>112.252</td>\n",
       "      <td>112.570</td>\n",
       "      <td>112.235</td>\n",
       "      <td>12518</td>\n",
       "      <td>112.908</td>\n",
       "      <td>0.588</td>\n",
       "    </tr>\n",
       "    <tr>\n",
       "      <td>495</td>\n",
       "      <td>2018/07/17 06:00:00</td>\n",
       "      <td>112.908</td>\n",
       "      <td>112.320</td>\n",
       "      <td>112.933</td>\n",
       "      <td>112.231</td>\n",
       "      <td>19645</td>\n",
       "      <td>112.866</td>\n",
       "      <td>-0.042</td>\n",
       "    </tr>\n",
       "    <tr>\n",
       "      <td>496</td>\n",
       "      <td>2018/07/18 06:00:00</td>\n",
       "      <td>112.866</td>\n",
       "      <td>112.914</td>\n",
       "      <td>113.144</td>\n",
       "      <td>112.723</td>\n",
       "      <td>17432</td>\n",
       "      <td>112.501</td>\n",
       "      <td>-0.365</td>\n",
       "    </tr>\n",
       "    <tr>\n",
       "      <td>497</td>\n",
       "      <td>2018/07/19 06:00:00</td>\n",
       "      <td>112.501</td>\n",
       "      <td>112.887</td>\n",
       "      <td>113.187</td>\n",
       "      <td>112.072</td>\n",
       "      <td>26697</td>\n",
       "      <td>111.474</td>\n",
       "      <td>-1.027</td>\n",
       "    </tr>\n",
       "    <tr>\n",
       "      <td>498</td>\n",
       "      <td>2018/07/20 06:00:00</td>\n",
       "      <td>111.474</td>\n",
       "      <td>112.504</td>\n",
       "      <td>112.631</td>\n",
       "      <td>111.401</td>\n",
       "      <td>33445</td>\n",
       "      <td>111.164</td>\n",
       "      <td>-0.310</td>\n",
       "    </tr>\n",
       "  </tbody>\n",
       "</table>\n",
       "</div>"
      ],
      "text/plain": [
       "                    Time    Close     Open     High      Low  Volume  close+1  \\\n",
       "494  2018/07/16 06:00:00  112.320  112.252  112.570  112.235   12518  112.908   \n",
       "495  2018/07/17 06:00:00  112.908  112.320  112.933  112.231   19645  112.866   \n",
       "496  2018/07/18 06:00:00  112.866  112.914  113.144  112.723   17432  112.501   \n",
       "497  2018/07/19 06:00:00  112.501  112.887  113.187  112.072   26697  111.474   \n",
       "498  2018/07/20 06:00:00  111.474  112.504  112.631  111.401   33445  111.164   \n",
       "\n",
       "      diff  \n",
       "494  0.588  \n",
       "495 -0.042  \n",
       "496 -0.365  \n",
       "497 -1.027  \n",
       "498 -0.310  "
      ]
     },
     "execution_count": 7,
     "metadata": {},
     "output_type": "execute_result"
    }
   ],
   "source": [
    "# 翌日終値 - 当日終値で差分を計算\n",
    "df['close+1'] = df['Close'].shift(-1)\n",
    "df['diff'] = df['close+1'] - df['Close']\n",
    "df = df[:-1]\n",
    " \n",
    "# 最後の5行を確認\n",
    "df.tail()"
   ]
  },
  {
   "cell_type": "markdown",
   "metadata": {},
   "source": [
    "データ全体で上昇した日と下降した日の割合を確認。"
   ]
  },
  {
   "cell_type": "code",
   "execution_count": 8,
   "metadata": {},
   "outputs": [
    {
     "name": "stdout",
     "output_type": "stream",
     "text": [
      "50.70140280561122\n",
      "49.298597194388776\n"
     ]
    }
   ],
   "source": [
    "# 上昇と下降のデータ割合を確認\n",
    "m = len(df['Close'])\n",
    "print(len(df[(df['diff'] > 0)]) / m * 100)\n",
    "print(len(df[(df['diff'] < 0)]) / m * 100)"
   ]
  },
  {
   "cell_type": "markdown",
   "metadata": {},
   "source": [
    "次は上昇した日は「1」、下降した日は「0」となるようにデータを処理。"
   ]
  },
  {
   "cell_type": "code",
   "execution_count": 9,
   "metadata": {},
   "outputs": [
    {
     "data": {
      "text/html": [
       "<div>\n",
       "<style scoped>\n",
       "    .dataframe tbody tr th:only-of-type {\n",
       "        vertical-align: middle;\n",
       "    }\n",
       "\n",
       "    .dataframe tbody tr th {\n",
       "        vertical-align: top;\n",
       "    }\n",
       "\n",
       "    .dataframe thead th {\n",
       "        text-align: right;\n",
       "    }\n",
       "</style>\n",
       "<table border=\"1\" class=\"dataframe\">\n",
       "  <thead>\n",
       "    <tr style=\"text-align: right;\">\n",
       "      <th></th>\n",
       "      <th>Time</th>\n",
       "      <th>Close</th>\n",
       "      <th>Open</th>\n",
       "      <th>High</th>\n",
       "      <th>Low</th>\n",
       "      <th>Volume</th>\n",
       "      <th>close+1</th>\n",
       "      <th>diff</th>\n",
       "    </tr>\n",
       "  </thead>\n",
       "  <tbody>\n",
       "    <tr>\n",
       "      <td>0</td>\n",
       "      <td>2016/08/19 06:00:00</td>\n",
       "      <td>100.256</td>\n",
       "      <td>99.919</td>\n",
       "      <td>100.471</td>\n",
       "      <td>99.887</td>\n",
       "      <td>30965</td>\n",
       "      <td>100.335</td>\n",
       "      <td>1.0</td>\n",
       "    </tr>\n",
       "    <tr>\n",
       "      <td>1</td>\n",
       "      <td>2016/08/22 06:00:00</td>\n",
       "      <td>100.335</td>\n",
       "      <td>100.832</td>\n",
       "      <td>100.944</td>\n",
       "      <td>100.221</td>\n",
       "      <td>32920</td>\n",
       "      <td>100.253</td>\n",
       "      <td>0.0</td>\n",
       "    </tr>\n",
       "    <tr>\n",
       "      <td>2</td>\n",
       "      <td>2016/08/23 06:00:00</td>\n",
       "      <td>100.253</td>\n",
       "      <td>100.339</td>\n",
       "      <td>100.405</td>\n",
       "      <td>99.950</td>\n",
       "      <td>26069</td>\n",
       "      <td>100.460</td>\n",
       "      <td>1.0</td>\n",
       "    </tr>\n",
       "    <tr>\n",
       "      <td>3</td>\n",
       "      <td>2016/08/24 06:00:00</td>\n",
       "      <td>100.460</td>\n",
       "      <td>100.270</td>\n",
       "      <td>100.619</td>\n",
       "      <td>100.104</td>\n",
       "      <td>22340</td>\n",
       "      <td>100.546</td>\n",
       "      <td>1.0</td>\n",
       "    </tr>\n",
       "    <tr>\n",
       "      <td>4</td>\n",
       "      <td>2016/08/25 06:00:00</td>\n",
       "      <td>100.546</td>\n",
       "      <td>100.464</td>\n",
       "      <td>100.627</td>\n",
       "      <td>100.314</td>\n",
       "      <td>17224</td>\n",
       "      <td>101.876</td>\n",
       "      <td>1.0</td>\n",
       "    </tr>\n",
       "  </tbody>\n",
       "</table>\n",
       "</div>"
      ],
      "text/plain": [
       "                  Time    Close     Open     High      Low  Volume  close+1  \\\n",
       "0  2016/08/19 06:00:00  100.256   99.919  100.471   99.887   30965  100.335   \n",
       "1  2016/08/22 06:00:00  100.335  100.832  100.944  100.221   32920  100.253   \n",
       "2  2016/08/23 06:00:00  100.253  100.339  100.405   99.950   26069  100.460   \n",
       "3  2016/08/24 06:00:00  100.460  100.270  100.619  100.104   22340  100.546   \n",
       "4  2016/08/25 06:00:00  100.546  100.464  100.627  100.314   17224  101.876   \n",
       "\n",
       "   diff  \n",
       "0   1.0  \n",
       "1   0.0  \n",
       "2   1.0  \n",
       "3   1.0  \n",
       "4   1.0  "
      ]
     },
     "execution_count": 9,
     "metadata": {},
     "output_type": "execute_result"
    }
   ],
   "source": [
    "# 上昇したら「1」、下降したら「0」へデータを変換\n",
    "mask1 = df['diff'] > 0\n",
    "mask2 = df['diff'] < 0\n",
    "column_name = 'diff'\n",
    "df.loc[mask1, column_name] = 1\n",
    "df.loc[mask2, column_name] = 0\n",
    "\n",
    "# 最初の5行を表示\n",
    "df.head()"
   ]
  },
  {
   "cell_type": "code",
   "execution_count": 10,
   "metadata": {},
   "outputs": [
    {
     "data": {
      "text/html": [
       "<div>\n",
       "<style scoped>\n",
       "    .dataframe tbody tr th:only-of-type {\n",
       "        vertical-align: middle;\n",
       "    }\n",
       "\n",
       "    .dataframe tbody tr th {\n",
       "        vertical-align: top;\n",
       "    }\n",
       "\n",
       "    .dataframe thead th {\n",
       "        text-align: right;\n",
       "    }\n",
       "</style>\n",
       "<table border=\"1\" class=\"dataframe\">\n",
       "  <thead>\n",
       "    <tr style=\"text-align: right;\">\n",
       "      <th></th>\n",
       "      <th>Target</th>\n",
       "      <th>Close</th>\n",
       "      <th>Open</th>\n",
       "      <th>High</th>\n",
       "      <th>Low</th>\n",
       "      <th>Volume</th>\n",
       "    </tr>\n",
       "  </thead>\n",
       "  <tbody>\n",
       "    <tr>\n",
       "      <td>0</td>\n",
       "      <td>1.0</td>\n",
       "      <td>100.256</td>\n",
       "      <td>99.919</td>\n",
       "      <td>100.471</td>\n",
       "      <td>99.887</td>\n",
       "      <td>30965</td>\n",
       "    </tr>\n",
       "    <tr>\n",
       "      <td>1</td>\n",
       "      <td>0.0</td>\n",
       "      <td>100.335</td>\n",
       "      <td>100.832</td>\n",
       "      <td>100.944</td>\n",
       "      <td>100.221</td>\n",
       "      <td>32920</td>\n",
       "    </tr>\n",
       "    <tr>\n",
       "      <td>2</td>\n",
       "      <td>1.0</td>\n",
       "      <td>100.253</td>\n",
       "      <td>100.339</td>\n",
       "      <td>100.405</td>\n",
       "      <td>99.950</td>\n",
       "      <td>26069</td>\n",
       "    </tr>\n",
       "    <tr>\n",
       "      <td>3</td>\n",
       "      <td>1.0</td>\n",
       "      <td>100.460</td>\n",
       "      <td>100.270</td>\n",
       "      <td>100.619</td>\n",
       "      <td>100.104</td>\n",
       "      <td>22340</td>\n",
       "    </tr>\n",
       "    <tr>\n",
       "      <td>4</td>\n",
       "      <td>1.0</td>\n",
       "      <td>100.546</td>\n",
       "      <td>100.464</td>\n",
       "      <td>100.627</td>\n",
       "      <td>100.314</td>\n",
       "      <td>17224</td>\n",
       "    </tr>\n",
       "  </tbody>\n",
       "</table>\n",
       "</div>"
      ],
      "text/plain": [
       "   Target    Close     Open     High      Low  Volume\n",
       "0     1.0  100.256   99.919  100.471   99.887   30965\n",
       "1     0.0  100.335  100.832  100.944  100.221   32920\n",
       "2     1.0  100.253  100.339  100.405   99.950   26069\n",
       "3     1.0  100.460  100.270  100.619  100.104   22340\n",
       "4     1.0  100.546  100.464  100.627  100.314   17224"
      ]
     },
     "execution_count": 10,
     "metadata": {},
     "output_type": "execute_result"
    }
   ],
   "source": [
    "# カラム名をtagertへ変換\n",
    "df.rename(columns={\"diff\" : \"Target\"}, inplace=True)\n",
    " \n",
    "# 不要なカラムを削除\n",
    "del df['Time']\n",
    "del df['close+1']\n",
    " \n",
    "# カラムの並び替え\n",
    "df = df[['Target', 'Close', 'Open', 'High', 'Low', 'Volume']]\n",
    " \n",
    "# 最初の5行を出力\n",
    "df.head()"
   ]
  },
  {
   "cell_type": "code",
   "execution_count": 11,
   "metadata": {},
   "outputs": [],
   "source": [
    "target_col = 'Target'\n",
    "feature_cols =[\"Close\",\"Open\",\"High\",\"Low\",\"Volume\"]"
   ]
  },
  {
   "cell_type": "code",
   "execution_count": 12,
   "metadata": {},
   "outputs": [
    {
     "data": {
      "text/html": [
       "<div>\n",
       "<style scoped>\n",
       "    .dataframe tbody tr th:only-of-type {\n",
       "        vertical-align: middle;\n",
       "    }\n",
       "\n",
       "    .dataframe tbody tr th {\n",
       "        vertical-align: top;\n",
       "    }\n",
       "\n",
       "    .dataframe thead th {\n",
       "        text-align: right;\n",
       "    }\n",
       "</style>\n",
       "<table border=\"1\" class=\"dataframe\">\n",
       "  <thead>\n",
       "    <tr style=\"text-align: right;\">\n",
       "      <th></th>\n",
       "      <th>Close</th>\n",
       "      <th>Open</th>\n",
       "      <th>High</th>\n",
       "      <th>Low</th>\n",
       "      <th>Volume</th>\n",
       "    </tr>\n",
       "  </thead>\n",
       "  <tbody>\n",
       "    <tr>\n",
       "      <td>0</td>\n",
       "      <td>100.256</td>\n",
       "      <td>99.919</td>\n",
       "      <td>100.471</td>\n",
       "      <td>99.887</td>\n",
       "      <td>30965</td>\n",
       "    </tr>\n",
       "    <tr>\n",
       "      <td>1</td>\n",
       "      <td>100.335</td>\n",
       "      <td>100.832</td>\n",
       "      <td>100.944</td>\n",
       "      <td>100.221</td>\n",
       "      <td>32920</td>\n",
       "    </tr>\n",
       "    <tr>\n",
       "      <td>2</td>\n",
       "      <td>100.253</td>\n",
       "      <td>100.339</td>\n",
       "      <td>100.405</td>\n",
       "      <td>99.950</td>\n",
       "      <td>26069</td>\n",
       "    </tr>\n",
       "    <tr>\n",
       "      <td>3</td>\n",
       "      <td>100.460</td>\n",
       "      <td>100.270</td>\n",
       "      <td>100.619</td>\n",
       "      <td>100.104</td>\n",
       "      <td>22340</td>\n",
       "    </tr>\n",
       "    <tr>\n",
       "      <td>4</td>\n",
       "      <td>100.546</td>\n",
       "      <td>100.464</td>\n",
       "      <td>100.627</td>\n",
       "      <td>100.314</td>\n",
       "      <td>17224</td>\n",
       "    </tr>\n",
       "  </tbody>\n",
       "</table>\n",
       "</div>"
      ],
      "text/plain": [
       "     Close     Open     High      Low  Volume\n",
       "0  100.256   99.919  100.471   99.887   30965\n",
       "1  100.335  100.832  100.944  100.221   32920\n",
       "2  100.253  100.339  100.405   99.950   26069\n",
       "3  100.460  100.270  100.619  100.104   22340\n",
       "4  100.546  100.464  100.627  100.314   17224"
      ]
     },
     "execution_count": 12,
     "metadata": {},
     "output_type": "execute_result"
    }
   ],
   "source": [
    "#特徴量\n",
    "df[feature_cols].head()"
   ]
  },
  {
   "cell_type": "code",
   "execution_count": 13,
   "metadata": {},
   "outputs": [
    {
     "data": {
      "text/plain": [
       "0    1.0\n",
       "1    0.0\n",
       "2    1.0\n",
       "3    1.0\n",
       "4    1.0\n",
       "Name: Target, dtype: float64"
      ]
     },
     "execution_count": 13,
     "metadata": {},
     "output_type": "execute_result"
    }
   ],
   "source": [
    "#目的変数\n",
    "df[target_col].head()"
   ]
  },
  {
   "cell_type": "code",
   "execution_count": 14,
   "metadata": {},
   "outputs": [],
   "source": [
    "y = np.array(df[target_col])\n",
    "X = np.array(df[feature_cols])"
   ]
  },
  {
   "cell_type": "code",
   "execution_count": 15,
   "metadata": {},
   "outputs": [
    {
     "data": {
      "text/plain": [
       "array([[  100.256,    99.919,   100.471,    99.887, 30965.   ],\n",
       "       [  100.335,   100.832,   100.944,   100.221, 32920.   ],\n",
       "       [  100.253,   100.339,   100.405,    99.95 , 26069.   ],\n",
       "       ...,\n",
       "       [  112.866,   112.914,   113.144,   112.723, 17432.   ],\n",
       "       [  112.501,   112.887,   113.187,   112.072, 26697.   ],\n",
       "       [  111.474,   112.504,   112.631,   111.401, 33445.   ]])"
      ]
     },
     "execution_count": 15,
     "metadata": {},
     "output_type": "execute_result"
    }
   ],
   "source": [
    "X"
   ]
  },
  {
   "cell_type": "code",
   "execution_count": 16,
   "metadata": {},
   "outputs": [
    {
     "data": {
      "text/plain": [
       "array([1., 0., 1., 1., 1., 1., 1., 1., 0., 1., 0., 0., 0., 1., 1., 0., 1.,\n",
       "       0., 0., 1., 0., 0., 0., 1., 1., 0., 1., 1., 1., 1., 1., 1., 1., 1.,\n",
       "       0., 1., 0., 1., 0., 1., 0., 0., 0., 1., 0., 1., 1., 1., 1., 0., 1.,\n",
       "       0., 0., 0., 1., 1., 1., 1., 1., 0., 1., 1., 0., 1., 1., 0., 1., 1.,\n",
       "       1., 0., 0., 1., 1., 0., 0., 1., 1., 0., 1., 1., 0., 1., 1., 1., 0.,\n",
       "       0., 1., 0., 0., 0., 1., 0., 0., 1., 1., 0., 0., 1., 0., 0., 0., 0.,\n",
       "       0., 0., 0., 1., 1., 0., 0., 1., 0., 1., 1., 0., 0., 1., 0., 0., 0.,\n",
       "       1., 0., 1., 1., 1., 1., 0., 0., 0., 1., 1., 0., 0., 0., 1., 1., 1.,\n",
       "       1., 0., 0., 1., 1., 1., 0., 1., 0., 0., 0., 0., 0., 0., 0., 0., 1.,\n",
       "       0., 1., 0., 1., 0., 0., 0., 0., 1., 1., 0., 0., 0., 1., 0., 1., 0.,\n",
       "       1., 1., 0., 1., 1., 0., 1., 1., 1., 1., 1., 0., 1., 1., 1., 1., 0.,\n",
       "       0., 1., 0., 0., 1., 0., 1., 1., 0., 1., 0., 0., 0., 0., 1., 0., 1.,\n",
       "       0., 1., 1., 1., 0., 1., 0., 1., 0., 1., 0., 0., 0., 1., 1., 1., 0.,\n",
       "       0., 1., 1., 0., 0., 0., 1., 1., 0., 0., 1., 0., 1., 0., 0., 0., 0.,\n",
       "       0., 1., 0., 1., 0., 0., 1., 1., 0., 1., 1., 0., 0., 0., 1., 1., 1.,\n",
       "       0., 0., 0., 0., 1., 0., 1., 0., 0., 1., 1., 0., 1., 0., 0., 1., 0.,\n",
       "       0., 1., 1., 1., 0., 1., 1., 1., 1., 1., 0., 0., 1., 1., 0., 1., 1.,\n",
       "       1., 0., 1., 0., 0., 1., 0., 1., 0., 0., 1., 1., 1., 0., 1., 0., 0.,\n",
       "       1., 0., 1., 0., 0., 1., 1., 0., 1., 0., 1., 0., 0., 1., 1., 0., 0.,\n",
       "       1., 0., 1., 0., 0., 1., 1., 0., 1., 1., 1., 0., 1., 1., 0., 1., 1.,\n",
       "       1., 0., 0., 0., 1., 0., 1., 1., 0., 0., 0., 1., 0., 0., 0., 1., 1.,\n",
       "       1., 1., 0., 0., 0., 0., 0., 0., 1., 0., 0., 1., 0., 0., 1., 0., 1.,\n",
       "       0., 1., 1., 1., 0., 1., 0., 0., 1., 0., 0., 0., 0., 1., 1., 1., 1.,\n",
       "       0., 1., 1., 1., 0., 0., 0., 1., 0., 0., 1., 1., 0., 1., 0., 1., 0.,\n",
       "       1., 1., 0., 0., 0., 1., 0., 1., 0., 0., 0., 1., 1., 1., 0., 0., 1.,\n",
       "       0., 1., 1., 0., 0., 1., 1., 1., 1., 1., 1., 0., 0., 1., 1., 0., 0.,\n",
       "       0., 0., 1., 1., 0., 1., 1., 1., 1., 1., 0., 1., 0., 0., 0., 1., 1.,\n",
       "       0., 1., 0., 1., 1., 0., 1., 0., 0., 1., 1., 0., 1., 1., 0., 0., 1.,\n",
       "       0., 1., 0., 1., 1., 1., 1., 1., 0., 0., 1., 0., 1., 1., 1., 1., 0.,\n",
       "       0., 1., 0., 0., 0., 0.])"
      ]
     },
     "execution_count": 16,
     "metadata": {},
     "output_type": "execute_result"
    }
   ],
   "source": [
    "y"
   ]
  },
  {
   "cell_type": "code",
   "execution_count": 17,
   "metadata": {},
   "outputs": [],
   "source": [
    "X_train, X_test, y_train, y_test = train_test_split(X,y,test_size=0.2,random_state=1234)"
   ]
  },
  {
   "cell_type": "markdown",
   "metadata": {},
   "source": [
    "## STEP3 決定技モデルの訓練"
   ]
  },
  {
   "cell_type": "code",
   "execution_count": 18,
   "metadata": {},
   "outputs": [],
   "source": [
    "clf_2 = DecisionTreeClassifier(max_depth=2)\n",
    "clf_2 = clf_2.fit(X_train, y_train)"
   ]
  },
  {
   "cell_type": "code",
   "execution_count": 19,
   "metadata": {},
   "outputs": [
    {
     "data": {
      "image/svg+xml": [
       "<?xml version=\"1.0\" encoding=\"UTF-8\" standalone=\"no\"?>\n",
       "<!DOCTYPE svg PUBLIC \"-//W3C//DTD SVG 1.1//EN\"\n",
       " \"http://www.w3.org/Graphics/SVG/1.1/DTD/svg11.dtd\">\n",
       "<!-- Generated by graphviz version 2.42.3 (20191010.1750)\n",
       " -->\n",
       "<!-- Title: Tree Pages: 1 -->\n",
       "<svg width=\"523pt\" height=\"300pt\"\n",
       " viewBox=\"0.00 0.00 523.23 300.00\" xmlns=\"http://www.w3.org/2000/svg\" xmlns:xlink=\"http://www.w3.org/1999/xlink\">\n",
       "<g id=\"graph0\" class=\"graph\" transform=\"scale(1 1) rotate(0) translate(4 296)\">\n",
       "<title>Tree</title>\n",
       "<polygon fill=\"white\" stroke=\"transparent\" points=\"-4,4 -4,-296 519.23,-296 519.23,4 -4,4\"/>\n",
       "<!-- 0 -->\n",
       "<g id=\"node1\" class=\"node\">\n",
       "<title>0</title>\n",
       "<path fill=\"#f6fbfe\" stroke=\"black\" d=\"M308.87,-292C308.87,-292 205.47,-292 205.47,-292 199.47,-292 193.47,-286 193.47,-280 193.47,-280 193.47,-226 193.47,-226 193.47,-220 199.47,-214 205.47,-214 205.47,-214 308.87,-214 308.87,-214 314.87,-214 320.87,-220 320.87,-226 320.87,-226 320.87,-280 320.87,-280 320.87,-286 314.87,-292 308.87,-292\"/>\n",
       "<text text-anchor=\"middle\" x=\"257.17\" y=\"-276.8\" font-family=\"Helvetica,sans-Serif\" font-size=\"14.00\">Close &lt;= 112.488</text>\n",
       "<text text-anchor=\"middle\" x=\"257.17\" y=\"-262.8\" font-family=\"Helvetica,sans-Serif\" font-size=\"14.00\">gini = 0.5</text>\n",
       "<text text-anchor=\"middle\" x=\"257.17\" y=\"-248.8\" font-family=\"Helvetica,sans-Serif\" font-size=\"14.00\">samples = 399</text>\n",
       "<text text-anchor=\"middle\" x=\"257.17\" y=\"-234.8\" font-family=\"Helvetica,sans-Serif\" font-size=\"14.00\">value = [195, 204]</text>\n",
       "<text text-anchor=\"middle\" x=\"257.17\" y=\"-220.8\" font-family=\"Helvetica,sans-Serif\" font-size=\"14.00\">class = a</text>\n",
       "</g>\n",
       "<!-- 1 -->\n",
       "<g id=\"node2\" class=\"node\">\n",
       "<title>1</title>\n",
       "<path fill=\"#c9e4f8\" stroke=\"black\" d=\"M233.34,-178C233.34,-178 131,-178 131,-178 125,-178 119,-172 119,-166 119,-166 119,-112 119,-112 119,-106 125,-100 131,-100 131,-100 233.34,-100 233.34,-100 239.34,-100 245.34,-106 245.34,-112 245.34,-112 245.34,-166 245.34,-166 245.34,-172 239.34,-178 233.34,-178\"/>\n",
       "<text text-anchor=\"middle\" x=\"182.17\" y=\"-162.8\" font-family=\"Helvetica,sans-Serif\" font-size=\"14.00\">Low &lt;= 101.428</text>\n",
       "<text text-anchor=\"middle\" x=\"182.17\" y=\"-148.8\" font-family=\"Helvetica,sans-Serif\" font-size=\"14.00\">gini = 0.488</text>\n",
       "<text text-anchor=\"middle\" x=\"182.17\" y=\"-134.8\" font-family=\"Helvetica,sans-Serif\" font-size=\"14.00\">samples = 273</text>\n",
       "<text text-anchor=\"middle\" x=\"182.17\" y=\"-120.8\" font-family=\"Helvetica,sans-Serif\" font-size=\"14.00\">value = [115, 158]</text>\n",
       "<text text-anchor=\"middle\" x=\"182.17\" y=\"-106.8\" font-family=\"Helvetica,sans-Serif\" font-size=\"14.00\">class = a</text>\n",
       "</g>\n",
       "<!-- 0&#45;&gt;1 -->\n",
       "<g id=\"edge1\" class=\"edge\">\n",
       "<title>0&#45;&gt;1</title>\n",
       "<path fill=\"none\" stroke=\"black\" d=\"M231.57,-213.77C225.72,-205.03 219.43,-195.64 213.37,-186.6\"/>\n",
       "<polygon fill=\"black\" stroke=\"black\" points=\"216.13,-184.42 207.66,-178.06 210.31,-188.32 216.13,-184.42\"/>\n",
       "<text text-anchor=\"middle\" x=\"202.8\" y=\"-198.38\" font-family=\"Helvetica,sans-Serif\" font-size=\"14.00\">True</text>\n",
       "</g>\n",
       "<!-- 4 -->\n",
       "<g id=\"node5\" class=\"node\">\n",
       "<title>4</title>\n",
       "<path fill=\"#f4c9ab\" stroke=\"black\" d=\"M389.11,-178C389.11,-178 275.23,-178 275.23,-178 269.23,-178 263.23,-172 263.23,-166 263.23,-166 263.23,-112 263.23,-112 263.23,-106 269.23,-100 275.23,-100 275.23,-100 389.11,-100 389.11,-100 395.11,-100 401.11,-106 401.11,-112 401.11,-112 401.11,-166 401.11,-166 401.11,-172 395.11,-178 389.11,-178\"/>\n",
       "<text text-anchor=\"middle\" x=\"332.17\" y=\"-162.8\" font-family=\"Helvetica,sans-Serif\" font-size=\"14.00\">Volume &lt;= 68036.0</text>\n",
       "<text text-anchor=\"middle\" x=\"332.17\" y=\"-148.8\" font-family=\"Helvetica,sans-Serif\" font-size=\"14.00\">gini = 0.464</text>\n",
       "<text text-anchor=\"middle\" x=\"332.17\" y=\"-134.8\" font-family=\"Helvetica,sans-Serif\" font-size=\"14.00\">samples = 126</text>\n",
       "<text text-anchor=\"middle\" x=\"332.17\" y=\"-120.8\" font-family=\"Helvetica,sans-Serif\" font-size=\"14.00\">value = [80, 46]</text>\n",
       "<text text-anchor=\"middle\" x=\"332.17\" y=\"-106.8\" font-family=\"Helvetica,sans-Serif\" font-size=\"14.00\">class = T</text>\n",
       "</g>\n",
       "<!-- 0&#45;&gt;4 -->\n",
       "<g id=\"edge4\" class=\"edge\">\n",
       "<title>0&#45;&gt;4</title>\n",
       "<path fill=\"none\" stroke=\"black\" d=\"M282.77,-213.77C288.62,-205.03 294.91,-195.64 300.97,-186.6\"/>\n",
       "<polygon fill=\"black\" stroke=\"black\" points=\"304.03,-188.32 306.68,-178.06 298.21,-184.42 304.03,-188.32\"/>\n",
       "<text text-anchor=\"middle\" x=\"311.54\" y=\"-198.38\" font-family=\"Helvetica,sans-Serif\" font-size=\"14.00\">False</text>\n",
       "</g>\n",
       "<!-- 2 -->\n",
       "<g id=\"node3\" class=\"node\">\n",
       "<title>2</title>\n",
       "<path fill=\"#49a5e7\" stroke=\"black\" d=\"M92.51,-64C92.51,-64 11.83,-64 11.83,-64 5.83,-64 -0.17,-58 -0.17,-52 -0.17,-52 -0.17,-12 -0.17,-12 -0.17,-6 5.83,0 11.83,0 11.83,0 92.51,0 92.51,0 98.51,0 104.51,-6 104.51,-12 104.51,-12 104.51,-52 104.51,-52 104.51,-58 98.51,-64 92.51,-64\"/>\n",
       "<text text-anchor=\"middle\" x=\"52.17\" y=\"-48.8\" font-family=\"Helvetica,sans-Serif\" font-size=\"14.00\">gini = 0.142</text>\n",
       "<text text-anchor=\"middle\" x=\"52.17\" y=\"-34.8\" font-family=\"Helvetica,sans-Serif\" font-size=\"14.00\">samples = 13</text>\n",
       "<text text-anchor=\"middle\" x=\"52.17\" y=\"-20.8\" font-family=\"Helvetica,sans-Serif\" font-size=\"14.00\">value = [1, 12]</text>\n",
       "<text text-anchor=\"middle\" x=\"52.17\" y=\"-6.8\" font-family=\"Helvetica,sans-Serif\" font-size=\"14.00\">class = a</text>\n",
       "</g>\n",
       "<!-- 1&#45;&gt;2 -->\n",
       "<g id=\"edge2\" class=\"edge\">\n",
       "<title>1&#45;&gt;2</title>\n",
       "<path fill=\"none\" stroke=\"black\" d=\"M134.87,-99.8C123.07,-90.27 110.43,-80.06 98.67,-70.56\"/>\n",
       "<polygon fill=\"black\" stroke=\"black\" points=\"100.68,-67.68 90.7,-64.12 96.28,-73.12 100.68,-67.68\"/>\n",
       "</g>\n",
       "<!-- 3 -->\n",
       "<g id=\"node4\" class=\"node\">\n",
       "<title>3</title>\n",
       "<path fill=\"#d4eaf9\" stroke=\"black\" d=\"M237.34,-64C237.34,-64 135,-64 135,-64 129,-64 123,-58 123,-52 123,-52 123,-12 123,-12 123,-6 129,0 135,0 135,0 237.34,0 237.34,0 243.34,0 249.34,-6 249.34,-12 249.34,-12 249.34,-52 249.34,-52 249.34,-58 243.34,-64 237.34,-64\"/>\n",
       "<text text-anchor=\"middle\" x=\"186.17\" y=\"-48.8\" font-family=\"Helvetica,sans-Serif\" font-size=\"14.00\">gini = 0.492</text>\n",
       "<text text-anchor=\"middle\" x=\"186.17\" y=\"-34.8\" font-family=\"Helvetica,sans-Serif\" font-size=\"14.00\">samples = 260</text>\n",
       "<text text-anchor=\"middle\" x=\"186.17\" y=\"-20.8\" font-family=\"Helvetica,sans-Serif\" font-size=\"14.00\">value = [114, 146]</text>\n",
       "<text text-anchor=\"middle\" x=\"186.17\" y=\"-6.8\" font-family=\"Helvetica,sans-Serif\" font-size=\"14.00\">class = a</text>\n",
       "</g>\n",
       "<!-- 1&#45;&gt;3 -->\n",
       "<g id=\"edge3\" class=\"edge\">\n",
       "<title>1&#45;&gt;3</title>\n",
       "<path fill=\"none\" stroke=\"black\" d=\"M183.63,-99.8C183.94,-91.46 184.28,-82.6 184.6,-74.15\"/>\n",
       "<polygon fill=\"black\" stroke=\"black\" points=\"188.1,-74.24 184.98,-64.12 181.11,-73.98 188.1,-74.24\"/>\n",
       "</g>\n",
       "<!-- 5 -->\n",
       "<g id=\"node6\" class=\"node\">\n",
       "<title>5</title>\n",
       "<path fill=\"#f1bb94\" stroke=\"black\" d=\"M373.3,-64C373.3,-64 285.04,-64 285.04,-64 279.04,-64 273.04,-58 273.04,-52 273.04,-52 273.04,-12 273.04,-12 273.04,-6 279.04,0 285.04,0 285.04,0 373.3,0 373.3,0 379.3,0 385.3,-6 385.3,-12 385.3,-12 385.3,-52 385.3,-52 385.3,-58 379.3,-64 373.3,-64\"/>\n",
       "<text text-anchor=\"middle\" x=\"329.17\" y=\"-48.8\" font-family=\"Helvetica,sans-Serif\" font-size=\"14.00\">gini = 0.432</text>\n",
       "<text text-anchor=\"middle\" x=\"329.17\" y=\"-34.8\" font-family=\"Helvetica,sans-Serif\" font-size=\"14.00\">samples = 92</text>\n",
       "<text text-anchor=\"middle\" x=\"329.17\" y=\"-20.8\" font-family=\"Helvetica,sans-Serif\" font-size=\"14.00\">value = [63, 29]</text>\n",
       "<text text-anchor=\"middle\" x=\"329.17\" y=\"-6.8\" font-family=\"Helvetica,sans-Serif\" font-size=\"14.00\">class = T</text>\n",
       "</g>\n",
       "<!-- 4&#45;&gt;5 -->\n",
       "<g id=\"edge5\" class=\"edge\">\n",
       "<title>4&#45;&gt;5</title>\n",
       "<path fill=\"none\" stroke=\"black\" d=\"M331.08,-99.8C330.84,-91.46 330.59,-82.6 330.35,-74.15\"/>\n",
       "<polygon fill=\"black\" stroke=\"black\" points=\"333.84,-74.01 330.06,-64.12 326.85,-74.21 333.84,-74.01\"/>\n",
       "</g>\n",
       "<!-- 6 -->\n",
       "<g id=\"node7\" class=\"node\">\n",
       "<title>6</title>\n",
       "<path fill=\"#ffffff\" stroke=\"black\" d=\"M503.3,-64C503.3,-64 415.04,-64 415.04,-64 409.04,-64 403.04,-58 403.04,-52 403.04,-52 403.04,-12 403.04,-12 403.04,-6 409.04,0 415.04,0 415.04,0 503.3,0 503.3,0 509.3,0 515.3,-6 515.3,-12 515.3,-12 515.3,-52 515.3,-52 515.3,-58 509.3,-64 503.3,-64\"/>\n",
       "<text text-anchor=\"middle\" x=\"459.17\" y=\"-48.8\" font-family=\"Helvetica,sans-Serif\" font-size=\"14.00\">gini = 0.5</text>\n",
       "<text text-anchor=\"middle\" x=\"459.17\" y=\"-34.8\" font-family=\"Helvetica,sans-Serif\" font-size=\"14.00\">samples = 34</text>\n",
       "<text text-anchor=\"middle\" x=\"459.17\" y=\"-20.8\" font-family=\"Helvetica,sans-Serif\" font-size=\"14.00\">value = [17, 17]</text>\n",
       "<text text-anchor=\"middle\" x=\"459.17\" y=\"-6.8\" font-family=\"Helvetica,sans-Serif\" font-size=\"14.00\">class = T</text>\n",
       "</g>\n",
       "<!-- 4&#45;&gt;6 -->\n",
       "<g id=\"edge6\" class=\"edge\">\n",
       "<title>4&#45;&gt;6</title>\n",
       "<path fill=\"none\" stroke=\"black\" d=\"M378.38,-99.8C389.9,-90.27 402.25,-80.06 413.74,-70.56\"/>\n",
       "<polygon fill=\"black\" stroke=\"black\" points=\"416.06,-73.19 421.53,-64.12 411.6,-67.79 416.06,-73.19\"/>\n",
       "</g>\n",
       "</g>\n",
       "</svg>\n"
      ],
      "text/plain": [
       "<graphviz.files.Source at 0x1a1fc87e10>"
      ]
     },
     "execution_count": 19,
     "metadata": {},
     "output_type": "execute_result"
    }
   ],
   "source": [
    "# 決定木の可視化\n",
    "dot_data = tree.export_graphviz(clf_2, out_file=None, \n",
    "                         feature_names=df.columns[1:6],  \n",
    "                         class_names=df.columns[0],\n",
    "                         rounded = True, \n",
    "                         filled=True\n",
    "                         )  \n",
    "graph = graphviz.Source(dot_data)  \n",
    "graph\n"
   ]
  },
  {
   "cell_type": "code",
   "execution_count": 20,
   "metadata": {},
   "outputs": [
    {
     "data": {
      "text/plain": [
       "array([[16, 35],\n",
       "       [15, 34]])"
      ]
     },
     "execution_count": 20,
     "metadata": {},
     "output_type": "execute_result"
    }
   ],
   "source": [
    "# テストデータで予測\n",
    "pred_test_2 = clf_2.predict(X_test)\n",
    " \n",
    "# テストデータの予測結果（混同行列）\n",
    "matrix = confusion_matrix(y_test,pred_test_2)\n",
    "matrix"
   ]
  },
  {
   "cell_type": "code",
   "execution_count": 21,
   "metadata": {},
   "outputs": [
    {
     "data": {
      "text/plain": [
       "0.5"
      ]
     },
     "execution_count": 21,
     "metadata": {},
     "output_type": "execute_result"
    }
   ],
   "source": [
    "# ランダムフォレスト テストデータ 正解率\n",
    "accuracy_score(y_test,pred_test_2)"
   ]
  },
  {
   "cell_type": "code",
   "execution_count": 22,
   "metadata": {},
   "outputs": [],
   "source": [
    "# 20層の決定木モデルの訓練\n",
    "clf_20 = DecisionTreeClassifier(max_depth=20)\n",
    "clf_20 = clf_20.fit(X_train, y_train)\n"
   ]
  },
  {
   "cell_type": "code",
   "execution_count": 23,
   "metadata": {},
   "outputs": [
    {
     "data": {
      "text/plain": [
       "array([[24, 27],\n",
       "       [26, 23]])"
      ]
     },
     "execution_count": 23,
     "metadata": {},
     "output_type": "execute_result"
    }
   ],
   "source": [
    "# テストデータで予測\n",
    "pred_test_20 = clf_20.predict(X_test)\n",
    " \n",
    "# テストデータの予測結果（混同行列）\n",
    "matrix = confusion_matrix(y_test,pred_test_20)\n",
    "matrix\n",
    " "
   ]
  },
  {
   "cell_type": "code",
   "execution_count": 24,
   "metadata": {},
   "outputs": [
    {
     "data": {
      "text/plain": [
       "0.47"
      ]
     },
     "execution_count": 24,
     "metadata": {},
     "output_type": "execute_result"
    }
   ],
   "source": [
    "# ランダムフォレスト テストデータ 正解率\n",
    "accuracy_score(y_test,pred_test_20)"
   ]
  },
  {
   "cell_type": "markdown",
   "metadata": {},
   "source": [
    "まさかの50％以下"
   ]
  },
  {
   "cell_type": "code",
   "execution_count": null,
   "metadata": {},
   "outputs": [],
   "source": []
  }
 ],
 "metadata": {
  "kernelspec": {
   "display_name": "Python 3",
   "language": "python",
   "name": "python3"
  },
  "language_info": {
   "codemirror_mode": {
    "name": "ipython",
    "version": 3
   },
   "file_extension": ".py",
   "mimetype": "text/x-python",
   "name": "python",
   "nbconvert_exporter": "python",
   "pygments_lexer": "ipython3",
   "version": "3.7.4"
  }
 },
 "nbformat": 4,
 "nbformat_minor": 2
}
