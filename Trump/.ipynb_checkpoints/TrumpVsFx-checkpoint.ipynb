{
 "cells": [
  {
   "cell_type": "markdown",
   "metadata": {},
   "source": [
    "TrumpのツイートとFXの相関\n",
    "\n",
    "参考URL\n",
    "http://www.algo-fx-blog.com/trump-tweet-fx-prediction/"
   ]
  },
  {
   "cell_type": "markdown",
   "metadata": {},
   "source": [
    "# STEP1 ライブラリのインポート\n",
    "\n",
    "今回使うライブラリのインポート"
   ]
  },
  {
   "cell_type": "code",
   "execution_count": 1,
   "metadata": {},
   "outputs": [],
   "source": [
    "# データを効率的に扱うライブラリ\n",
    "import pandas as pd \n",
    "import numpy as np\n",
    "import matplotlib.pyplot as plt\n",
    "import mplfinance as mpf\n",
    "from datetime import datetime, timedelta\n",
    " \n",
    "# 自然言語処理（NLP）を扱うライブラリ\n",
    "import nltk\n",
    "from nltk.corpus import stopwords\n",
    "import string\n",
    " \n",
    "# 機械学習ライブラリ\n",
    "from sklearn.feature_extraction.text import CountVectorizer\n",
    "from sklearn.model_selection import train_test_split\n",
    "from sklearn.naive_bayes import MultinomialNB\n",
    "from sklearn.metrics import confusion_matrix \n",
    "from sklearn.metrics import accuracy_score\n",
    " \n",
    "# 設定\n",
    "pd.options.display.max_colwidth = -1"
   ]
  },
  {
   "cell_type": "markdown",
   "metadata": {},
   "source": [
    "nltkとはNatural Language Toolkitの略です。今回はトランプ大統領のツイート、つまり言語を解析します。言語解析で役に立つのがnltkです。nltkですが、Google Colabにはデフォルトでインストールされていますので追加構築は不要です。\n",
    "\n",
    "nltkで追加のモジュールをダウンロードしちゃいましょう。下記のコードをセルに入力して実行してください。"
   ]
  },
  {
   "cell_type": "code",
   "execution_count": 2,
   "metadata": {},
   "outputs": [
    {
     "name": "stderr",
     "output_type": "stream",
     "text": [
      "[nltk_data] Downloading package stopwords to /Users/koz/nltk_data...\n",
      "[nltk_data]   Package stopwords is already up-to-date!\n",
      "[nltk_data] Downloading package punkt to /Users/koz/nltk_data...\n",
      "[nltk_data]   Package punkt is already up-to-date!\n"
     ]
    },
    {
     "data": {
      "text/plain": [
       "True"
      ]
     },
     "execution_count": 2,
     "metadata": {},
     "output_type": "execute_result"
    }
   ],
   "source": [
    "# NLTKのモジュールのダウロード\n",
    "nltk.download('stopwords')\n",
    "nltk.download('punkt')"
   ]
  },
  {
   "cell_type": "markdown",
   "metadata": {},
   "source": [
    "# STEP2 トランプ大統領のツイートデータ取得"
   ]
  },
  {
   "cell_type": "code",
   "execution_count": 3,
   "metadata": {},
   "outputs": [
    {
     "data": {
      "text/plain": [
       "(751, 7)"
      ]
     },
     "execution_count": 3,
     "metadata": {},
     "output_type": "execute_result"
    }
   ],
   "source": [
    "# トランプのツイートデータを読み込み\n",
    "trump = pd.read_csv('trump.csv')\n",
    "trump.shape"
   ]
  },
  {
   "cell_type": "code",
   "execution_count": 4,
   "metadata": {},
   "outputs": [
    {
     "data": {
      "text/html": [
       "<div>\n",
       "<style scoped>\n",
       "    .dataframe tbody tr th:only-of-type {\n",
       "        vertical-align: middle;\n",
       "    }\n",
       "\n",
       "    .dataframe tbody tr th {\n",
       "        vertical-align: top;\n",
       "    }\n",
       "\n",
       "    .dataframe thead th {\n",
       "        text-align: right;\n",
       "    }\n",
       "</style>\n",
       "<table border=\"1\" class=\"dataframe\">\n",
       "  <thead>\n",
       "    <tr style=\"text-align: right;\">\n",
       "      <th></th>\n",
       "      <th>source</th>\n",
       "      <th>text</th>\n",
       "      <th>created_at</th>\n",
       "      <th>retweet_count</th>\n",
       "      <th>favorite_count</th>\n",
       "      <th>is_retweet</th>\n",
       "      <th>id_str</th>\n",
       "    </tr>\n",
       "  </thead>\n",
       "  <tbody>\n",
       "    <tr>\n",
       "      <td>0</td>\n",
       "      <td>Twitter for iPhone</td>\n",
       "      <td>“If the Fed backs off and starts talking a little more Dovish I think we’re going to be right back to our 2800 to 2900 target range that we’ve had for the S&amp;amp;P 500.” Scott Wren Wells Fargo.</td>\n",
       "      <td>10-30-2018 12:53:03</td>\n",
       "      <td>14962</td>\n",
       "      <td>61498</td>\n",
       "      <td>False</td>\n",
       "      <td>1057254051254013953</td>\n",
       "    </tr>\n",
       "    <tr>\n",
       "      <td>1</td>\n",
       "      <td>Twitter for iPhone</td>\n",
       "      <td>The Stock Market is up massively since the Election but is now taking a little pause - people want to see what happens with the Midterms. If you want your Stocks to go down I strongly suggest voting Democrat. They like the Venezuela financial model High Taxes &amp;amp; Open Borders!</td>\n",
       "      <td>10-30-2018 12:33:39</td>\n",
       "      <td>30334</td>\n",
       "      <td>112637</td>\n",
       "      <td>False</td>\n",
       "      <td>1057249169507803137</td>\n",
       "    </tr>\n",
       "  </tbody>\n",
       "</table>\n",
       "</div>"
      ],
      "text/plain": [
       "               source  \\\n",
       "0  Twitter for iPhone   \n",
       "1  Twitter for iPhone   \n",
       "\n",
       "                                                                                                                                                                                                                                                                                      text  \\\n",
       "0  “If the Fed backs off and starts talking a little more Dovish I think we’re going to be right back to our 2800 to 2900 target range that we’ve had for the S&amp;P 500.” Scott Wren Wells Fargo.                                                                                          \n",
       "1  The Stock Market is up massively since the Election but is now taking a little pause - people want to see what happens with the Midterms. If you want your Stocks to go down I strongly suggest voting Democrat. They like the Venezuela financial model High Taxes &amp; Open Borders!   \n",
       "\n",
       "            created_at  retweet_count  favorite_count  is_retweet  \\\n",
       "0  10-30-2018 12:53:03  14962          61498           False        \n",
       "1  10-30-2018 12:33:39  30334          112637          False        \n",
       "\n",
       "                id_str  \n",
       "0  1057254051254013953  \n",
       "1  1057249169507803137  "
      ]
     },
     "execution_count": 4,
     "metadata": {},
     "output_type": "execute_result"
    }
   ],
   "source": [
    "# データの最初の2行を表示\n",
    "trump.head(2)"
   ]
  },
  {
   "cell_type": "code",
   "execution_count": 5,
   "metadata": {},
   "outputs": [
    {
     "data": {
      "text/html": [
       "<div>\n",
       "<style scoped>\n",
       "    .dataframe tbody tr th:only-of-type {\n",
       "        vertical-align: middle;\n",
       "    }\n",
       "\n",
       "    .dataframe tbody tr th {\n",
       "        vertical-align: top;\n",
       "    }\n",
       "\n",
       "    .dataframe thead th {\n",
       "        text-align: right;\n",
       "    }\n",
       "</style>\n",
       "<table border=\"1\" class=\"dataframe\">\n",
       "  <thead>\n",
       "    <tr style=\"text-align: right;\">\n",
       "      <th></th>\n",
       "      <th>time</th>\n",
       "      <th>tweet</th>\n",
       "    </tr>\n",
       "  </thead>\n",
       "  <tbody>\n",
       "    <tr>\n",
       "      <td>0</td>\n",
       "      <td>2018-10-30 12:53:00</td>\n",
       "      <td>“If the Fed backs off and starts talking a little more Dovish I think we’re going to be right back to our 2800 to 2900 target range that we’ve had for the S&amp;amp;P 500.” Scott Wren Wells Fargo.</td>\n",
       "    </tr>\n",
       "    <tr>\n",
       "      <td>1</td>\n",
       "      <td>2018-10-30 12:34:00</td>\n",
       "      <td>The Stock Market is up massively since the Election but is now taking a little pause - people want to see what happens with the Midterms. If you want your Stocks to go down I strongly suggest voting Democrat. They like the Venezuela financial model High Taxes &amp;amp; Open Borders!</td>\n",
       "    </tr>\n",
       "  </tbody>\n",
       "</table>\n",
       "</div>"
      ],
      "text/plain": [
       "                 time  \\\n",
       "0 2018-10-30 12:53:00   \n",
       "1 2018-10-30 12:34:00   \n",
       "\n",
       "                                                                                                                                                                                                                                                                                     tweet  \n",
       "0  “If the Fed backs off and starts talking a little more Dovish I think we’re going to be right back to our 2800 to 2900 target range that we’ve had for the S&amp;P 500.” Scott Wren Wells Fargo.                                                                                         \n",
       "1  The Stock Market is up massively since the Election but is now taking a little pause - people want to see what happens with the Midterms. If you want your Stocks to go down I strongly suggest voting Democrat. They like the Venezuela financial model High Taxes &amp; Open Borders!  "
      ]
     },
     "execution_count": 5,
     "metadata": {},
     "output_type": "execute_result"
    }
   ],
   "source": [
    "# 不要なデータを削除\n",
    "trump = trump[['created_at', 'text']]\n",
    "trump.columns = ['time', 'tweet']\n",
    "\n",
    "# オブジェクトからDatime型へ変換\n",
    "trump['time'] = pd.to_datetime(trump['time'])\n",
    " \n",
    "# 秒数を四捨五入\n",
    "trump['time'] = trump['time'].dt.round('min')\n",
    " \n",
    "# 最初の2行を確認\n",
    "trump.head(2)"
   ]
  },
  {
   "cell_type": "markdown",
   "metadata": {},
   "source": [
    "# STEP3 ドル円1分足データの取得"
   ]
  },
  {
   "cell_type": "code",
   "execution_count": 6,
   "metadata": {},
   "outputs": [
    {
     "data": {
      "text/html": [
       "<div>\n",
       "<style scoped>\n",
       "    .dataframe tbody tr th:only-of-type {\n",
       "        vertical-align: middle;\n",
       "    }\n",
       "\n",
       "    .dataframe tbody tr th {\n",
       "        vertical-align: top;\n",
       "    }\n",
       "\n",
       "    .dataframe thead th {\n",
       "        text-align: right;\n",
       "    }\n",
       "</style>\n",
       "<table border=\"1\" class=\"dataframe\">\n",
       "  <thead>\n",
       "    <tr style=\"text-align: right;\">\n",
       "      <th></th>\n",
       "      <th>t</th>\n",
       "      <th>c</th>\n",
       "    </tr>\n",
       "  </thead>\n",
       "  <tbody>\n",
       "    <tr>\n",
       "      <td>0</td>\n",
       "      <td>2018-09-03 09:00:00</td>\n",
       "      <td>111.151</td>\n",
       "    </tr>\n",
       "    <tr>\n",
       "      <td>1</td>\n",
       "      <td>2018-09-03 09:01:00</td>\n",
       "      <td>111.120</td>\n",
       "    </tr>\n",
       "  </tbody>\n",
       "</table>\n",
       "</div>"
      ],
      "text/plain": [
       "                    t        c\n",
       "0 2018-09-03 09:00:00  111.151\n",
       "1 2018-09-03 09:01:00  111.120"
      ]
     },
     "execution_count": 6,
     "metadata": {},
     "output_type": "execute_result"
    }
   ],
   "source": [
    "# レートを取得\n",
    "rate = pd.read_csv(\"usd_1min_trump.csv\")\n",
    "rate = rate[['t', 'c']]\n",
    "rate['t'] = pd.to_datetime(rate['t'])\n",
    "rate.head(2)"
   ]
  },
  {
   "cell_type": "markdown",
   "metadata": {},
   "source": [
    "# STEP4 教師データの作成"
   ]
  },
  {
   "cell_type": "code",
   "execution_count": 7,
   "metadata": {},
   "outputs": [
    {
     "data": {
      "text/html": [
       "<div>\n",
       "<style scoped>\n",
       "    .dataframe tbody tr th:only-of-type {\n",
       "        vertical-align: middle;\n",
       "    }\n",
       "\n",
       "    .dataframe tbody tr th {\n",
       "        vertical-align: top;\n",
       "    }\n",
       "\n",
       "    .dataframe thead th {\n",
       "        text-align: right;\n",
       "    }\n",
       "</style>\n",
       "<table border=\"1\" class=\"dataframe\">\n",
       "  <thead>\n",
       "    <tr style=\"text-align: right;\">\n",
       "      <th></th>\n",
       "      <th>tweet</th>\n",
       "      <th>jst</th>\n",
       "    </tr>\n",
       "  </thead>\n",
       "  <tbody>\n",
       "    <tr>\n",
       "      <td>0</td>\n",
       "      <td>“If the Fed backs off and starts talking a little more Dovish I think we’re going to be right back to our 2800 to 2900 target range that we’ve had for the S&amp;amp;P 500.” Scott Wren Wells Fargo.</td>\n",
       "      <td>2018-10-29 22:53:00</td>\n",
       "    </tr>\n",
       "    <tr>\n",
       "      <td>1</td>\n",
       "      <td>The Stock Market is up massively since the Election but is now taking a little pause - people want to see what happens with the Midterms. If you want your Stocks to go down I strongly suggest voting Democrat. They like the Venezuela financial model High Taxes &amp;amp; Open Borders!</td>\n",
       "      <td>2018-10-29 22:34:00</td>\n",
       "    </tr>\n",
       "  </tbody>\n",
       "</table>\n",
       "</div>"
      ],
      "text/plain": [
       "                                                                                                                                                                                                                                                                                     tweet  \\\n",
       "0  “If the Fed backs off and starts talking a little more Dovish I think we’re going to be right back to our 2800 to 2900 target range that we’ve had for the S&amp;P 500.” Scott Wren Wells Fargo.                                                                                          \n",
       "1  The Stock Market is up massively since the Election but is now taking a little pause - people want to see what happens with the Midterms. If you want your Stocks to go down I strongly suggest voting Democrat. They like the Venezuela financial model High Taxes &amp; Open Borders!   \n",
       "\n",
       "                  jst  \n",
       "0 2018-10-29 22:53:00  \n",
       "1 2018-10-29 22:34:00  "
      ]
     },
     "execution_count": 7,
     "metadata": {},
     "output_type": "execute_result"
    }
   ],
   "source": [
    "# ESTからJSTへ変換（-１４時間）\n",
    "trump['jst'] = trump['time'] - timedelta(hours=14)\n",
    "del trump['time']\n",
    "trump.head(2) "
   ]
  },
  {
   "cell_type": "code",
   "execution_count": 8,
   "metadata": {},
   "outputs": [
    {
     "name": "stderr",
     "output_type": "stream",
     "text": [
      "/Users/koz/opt/anaconda3/lib/python3.7/site-packages/ipykernel_launcher.py:5: SettingWithCopyWarning: \n",
      "A value is trying to be set on a copy of a slice from a DataFrame\n",
      "\n",
      "See the caveats in the documentation: http://pandas.pydata.org/pandas-docs/stable/user_guide/indexing.html#returning-a-view-versus-a-copy\n",
      "  \"\"\"\n",
      "/Users/koz/opt/anaconda3/lib/python3.7/site-packages/ipykernel_launcher.py:6: SettingWithCopyWarning: \n",
      "A value is trying to be set on a copy of a slice from a DataFrame\n",
      "\n",
      "See the caveats in the documentation: http://pandas.pydata.org/pandas-docs/stable/user_guide/indexing.html#returning-a-view-versus-a-copy\n",
      "  \n"
     ]
    }
   ],
   "source": [
    "# 10分後 レートが上がれば「1」、下がれば「0」\n",
    "rate['target'] = 0\n",
    "pos_mask = (rate['c'].shift(-10) - rate['c']) > 0.0\n",
    "neg_mask = (rate['c'].shift(-10) - rate['c']) < 0.0\n",
    "rate['target'][pos_mask] = 1\n",
    "rate['target'][neg_mask] = 0"
   ]
  },
  {
   "cell_type": "code",
   "execution_count": 9,
   "metadata": {},
   "outputs": [
    {
     "data": {
      "text/html": [
       "<div>\n",
       "<style scoped>\n",
       "    .dataframe tbody tr th:only-of-type {\n",
       "        vertical-align: middle;\n",
       "    }\n",
       "\n",
       "    .dataframe tbody tr th {\n",
       "        vertical-align: top;\n",
       "    }\n",
       "\n",
       "    .dataframe thead th {\n",
       "        text-align: right;\n",
       "    }\n",
       "</style>\n",
       "<table border=\"1\" class=\"dataframe\">\n",
       "  <thead>\n",
       "    <tr style=\"text-align: right;\">\n",
       "      <th></th>\n",
       "      <th>t</th>\n",
       "      <th>c</th>\n",
       "      <th>target</th>\n",
       "    </tr>\n",
       "  </thead>\n",
       "  <tbody>\n",
       "    <tr>\n",
       "      <td>4</td>\n",
       "      <td>2018-09-03 09:04:00</td>\n",
       "      <td>111.083</td>\n",
       "      <td>1</td>\n",
       "    </tr>\n",
       "    <tr>\n",
       "      <td>5</td>\n",
       "      <td>2018-09-03 09:05:00</td>\n",
       "      <td>111.103</td>\n",
       "      <td>0</td>\n",
       "    </tr>\n",
       "    <tr>\n",
       "      <td>6</td>\n",
       "      <td>2018-09-03 09:06:00</td>\n",
       "      <td>111.111</td>\n",
       "      <td>0</td>\n",
       "    </tr>\n",
       "    <tr>\n",
       "      <td>7</td>\n",
       "      <td>2018-09-03 09:07:00</td>\n",
       "      <td>111.118</td>\n",
       "      <td>0</td>\n",
       "    </tr>\n",
       "    <tr>\n",
       "      <td>8</td>\n",
       "      <td>2018-09-03 09:08:00</td>\n",
       "      <td>111.108</td>\n",
       "      <td>0</td>\n",
       "    </tr>\n",
       "    <tr>\n",
       "      <td>9</td>\n",
       "      <td>2018-09-03 09:09:00</td>\n",
       "      <td>111.110</td>\n",
       "      <td>0</td>\n",
       "    </tr>\n",
       "  </tbody>\n",
       "</table>\n",
       "</div>"
      ],
      "text/plain": [
       "                    t        c  target\n",
       "4 2018-09-03 09:04:00  111.083  1     \n",
       "5 2018-09-03 09:05:00  111.103  0     \n",
       "6 2018-09-03 09:06:00  111.111  0     \n",
       "7 2018-09-03 09:07:00  111.118  0     \n",
       "8 2018-09-03 09:08:00  111.108  0     \n",
       "9 2018-09-03 09:09:00  111.110  0     "
      ]
     },
     "execution_count": 9,
     "metadata": {},
     "output_type": "execute_result"
    }
   ],
   "source": [
    "# 教師ラベルの確認\n",
    "rate.iloc[4:10]"
   ]
  },
  {
   "cell_type": "markdown",
   "metadata": {},
   "source": [
    "# STEP5 レートとツイートデータを結合"
   ]
  },
  {
   "cell_type": "code",
   "execution_count": 10,
   "metadata": {},
   "outputs": [
    {
     "data": {
      "text/html": [
       "<div>\n",
       "<style scoped>\n",
       "    .dataframe tbody tr th:only-of-type {\n",
       "        vertical-align: middle;\n",
       "    }\n",
       "\n",
       "    .dataframe tbody tr th {\n",
       "        vertical-align: top;\n",
       "    }\n",
       "\n",
       "    .dataframe thead th {\n",
       "        text-align: right;\n",
       "    }\n",
       "</style>\n",
       "<table border=\"1\" class=\"dataframe\">\n",
       "  <thead>\n",
       "    <tr style=\"text-align: right;\">\n",
       "      <th></th>\n",
       "      <th>tweet</th>\n",
       "      <th>jst</th>\n",
       "      <th>t</th>\n",
       "      <th>c</th>\n",
       "      <th>target</th>\n",
       "    </tr>\n",
       "  </thead>\n",
       "  <tbody>\n",
       "    <tr>\n",
       "      <td>0</td>\n",
       "      <td>“If the Fed backs off and starts talking a little more Dovish I think we’re going to be right back to our 2800 to 2900 target range that we’ve had for the S&amp;amp;P 500.” Scott Wren Wells Fargo.</td>\n",
       "      <td>2018-10-29 22:53:00</td>\n",
       "      <td>2018-10-29 22:53:00</td>\n",
       "      <td>112.492</td>\n",
       "      <td>1</td>\n",
       "    </tr>\n",
       "    <tr>\n",
       "      <td>1</td>\n",
       "      <td>The Stock Market is up massively since the Election but is now taking a little pause - people want to see what happens with the Midterms. If you want your Stocks to go down I strongly suggest voting Democrat. They like the Venezuela financial model High Taxes &amp;amp; Open Borders!</td>\n",
       "      <td>2018-10-29 22:34:00</td>\n",
       "      <td>2018-10-29 22:34:00</td>\n",
       "      <td>112.445</td>\n",
       "      <td>1</td>\n",
       "    </tr>\n",
       "  </tbody>\n",
       "</table>\n",
       "</div>"
      ],
      "text/plain": [
       "                                                                                                                                                                                                                                                                                     tweet  \\\n",
       "0  “If the Fed backs off and starts talking a little more Dovish I think we’re going to be right back to our 2800 to 2900 target range that we’ve had for the S&amp;P 500.” Scott Wren Wells Fargo.                                                                                          \n",
       "1  The Stock Market is up massively since the Election but is now taking a little pause - people want to see what happens with the Midterms. If you want your Stocks to go down I strongly suggest voting Democrat. They like the Venezuela financial model High Taxes &amp; Open Borders!   \n",
       "\n",
       "                  jst                   t        c  target  \n",
       "0 2018-10-29 22:53:00 2018-10-29 22:53:00  112.492  1       \n",
       "1 2018-10-29 22:34:00 2018-10-29 22:34:00  112.445  1       "
      ]
     },
     "execution_count": 10,
     "metadata": {},
     "output_type": "execute_result"
    }
   ],
   "source": [
    "# データの結合\n",
    "masta = pd.merge(trump, rate, left_on='jst', right_on='t')\n",
    "masta.head(2)"
   ]
  },
  {
   "cell_type": "code",
   "execution_count": 11,
   "metadata": {},
   "outputs": [
    {
     "data": {
      "text/plain": [
       "0    282\n",
       "1    219\n",
       "Name: target, dtype: int64"
      ]
     },
     "execution_count": 11,
     "metadata": {},
     "output_type": "execute_result"
    }
   ],
   "source": [
    "# カラムの除外\n",
    "masta = masta[['t', 'tweet', 'target']]\n",
    " \n",
    "# ターゲットの分布確認\n",
    "masta['target'].value_counts()"
   ]
  },
  {
   "cell_type": "markdown",
   "metadata": {},
   "source": [
    "# STEP6 言語データの前処理"
   ]
  },
  {
   "cell_type": "code",
   "execution_count": 12,
   "metadata": {},
   "outputs": [
    {
     "data": {
      "text/plain": [
       "'“If the Fed backs off and starts talking a little more Dovish I think we’re going to be right back to our 2800 to 2900 target range that we’ve had for the S&amp;P 500.” Scott Wren Wells Fargo.'"
      ]
     },
     "execution_count": 12,
     "metadata": {},
     "output_type": "execute_result"
    }
   ],
   "source": [
    "# ツイートの一番最初のデータをサンプルとして切り出す\n",
    "tweet = masta['tweet'][0]\n",
    "tweet"
   ]
  },
  {
   "cell_type": "markdown",
   "metadata": {},
   "source": [
    "小文字化。これは例えばLoveとloveの2単語が含まれていた場合、loveと小文字で統一することで同単語として認識するため。"
   ]
  },
  {
   "cell_type": "code",
   "execution_count": 13,
   "metadata": {},
   "outputs": [
    {
     "data": {
      "text/plain": [
       "'“if the fed backs off and starts talking a little more dovish i think we’re going to be right back to our 2800 to 2900 target range that we’ve had for the s&amp;p 500.” scott wren wells fargo.'"
      ]
     },
     "execution_count": 13,
     "metadata": {},
     "output_type": "execute_result"
    }
   ],
   "source": [
    "# 小文字\n",
    "tweet.lower()"
   ]
  },
  {
   "cell_type": "markdown",
   "metadata": {},
   "source": [
    "句読点を文書から取り除く。句読点は人間が文章を理解する上でとても重要な役割を果たすが、データとして解析するには少し厄介だから。"
   ]
  },
  {
   "cell_type": "code",
   "execution_count": 14,
   "metadata": {},
   "outputs": [
    {
     "data": {
      "text/plain": [
       "'“If the Fed backs off and starts talking a little more Dovish I think we’re going to be right back to our 2800 to 2900 target range that we’ve had for the SampP 500” Scott Wren Wells Fargo'"
      ]
     },
     "execution_count": 14,
     "metadata": {},
     "output_type": "execute_result"
    }
   ],
   "source": [
    "# 句読点を除外\n",
    "''.join([moji for moji in tweet if moji not in string.punctuation])"
   ]
  },
  {
   "cell_type": "markdown",
   "metadata": {},
   "source": [
    "特殊文字「“」や「’」が未だ含まれています。これも邪魔なので除外"
   ]
  },
  {
   "cell_type": "code",
   "execution_count": 15,
   "metadata": {},
   "outputs": [
    {
     "data": {
      "text/plain": [
       "'If the Fed backs off and starts talking a little more Dovish I think were going to be right back to our 2800 to 2900 target range that weve had for the S&amp;P 500. Scott Wren Wells Fargo.'"
      ]
     },
     "execution_count": 15,
     "metadata": {},
     "output_type": "execute_result"
    }
   ],
   "source": [
    "# 特殊記号を削除\n",
    "''.join([moji for moji in tweet if moji not in \"“”’\"])"
   ]
  },
  {
   "cell_type": "markdown",
   "metadata": {},
   "source": [
    "不要な特殊記号も除外されています。クリーニングの最後は「ストップワード」を削除しましょう。ストップワードとは一般的に文章解析を行う際に役に立たないと考えられる単語をさします。\n",
    "\n",
    "nltkには英語のストップワードが収録されています。いくつか出力して確認してみましょう。"
   ]
  },
  {
   "cell_type": "code",
   "execution_count": 16,
   "metadata": {},
   "outputs": [
    {
     "data": {
      "text/plain": [
       "['i', 'me', 'my', 'myself', 'we']"
      ]
     },
     "execution_count": 16,
     "metadata": {},
     "output_type": "execute_result"
    }
   ],
   "source": [
    "# ストップワードを表示\n",
    "stopwords.words('english')[0:5]"
   ]
  },
  {
   "cell_type": "markdown",
   "metadata": {},
   "source": [
    "iやmeなどが英語ではストップワードです。人間の私たちからすれば、これらの単語は非常に重要な意味合いを持ちますが、解析を行う際には不要と考えて除外を行います。（ストップワードを除外することが100%正しい訳ではありません）"
   ]
  },
  {
   "cell_type": "code",
   "execution_count": 17,
   "metadata": {},
   "outputs": [
    {
     "data": {
      "text/plain": [
       "'“if fed backs starts talking little dovish think we’re going right back 2800 2900 target range we’ve s&amp;p 500.” scott wren wells fargo.'"
      ]
     },
     "execution_count": 17,
     "metadata": {},
     "output_type": "execute_result"
    }
   ],
   "source": [
    "# ストップワードを削除\n",
    "tweet_low = tweet.lower()\n",
    "' '.join([tango for tango in tweet_low.split() if tango not in (stopwords.words('english'))])"
   ]
  },
  {
   "cell_type": "markdown",
   "metadata": {},
   "source": [
    "今までの処理を関数にまとめて、データ処理を一括で。"
   ]
  },
  {
   "cell_type": "code",
   "execution_count": 18,
   "metadata": {},
   "outputs": [
    {
     "data": {
      "text/html": [
       "<div>\n",
       "<style scoped>\n",
       "    .dataframe tbody tr th:only-of-type {\n",
       "        vertical-align: middle;\n",
       "    }\n",
       "\n",
       "    .dataframe tbody tr th {\n",
       "        vertical-align: top;\n",
       "    }\n",
       "\n",
       "    .dataframe thead th {\n",
       "        text-align: right;\n",
       "    }\n",
       "</style>\n",
       "<table border=\"1\" class=\"dataframe\">\n",
       "  <thead>\n",
       "    <tr style=\"text-align: right;\">\n",
       "      <th></th>\n",
       "      <th>tweet</th>\n",
       "      <th>target</th>\n",
       "    </tr>\n",
       "  </thead>\n",
       "  <tbody>\n",
       "    <tr>\n",
       "      <td>0</td>\n",
       "      <td>fed backs starts talking little dovish think going right back 2800 2900 target range weve sampp 500 scott wren wells fargo</td>\n",
       "      <td>1</td>\n",
       "    </tr>\n",
       "    <tr>\n",
       "      <td>1</td>\n",
       "      <td>stock market massively since election taking little pause people want see happens midterms want stocks go strongly suggest voting democrat like venezuela financial model high taxes amp open borders</td>\n",
       "      <td>1</td>\n",
       "    </tr>\n",
       "  </tbody>\n",
       "</table>\n",
       "</div>"
      ],
      "text/plain": [
       "                                                                                                                                                                                                   tweet  \\\n",
       "0  fed backs starts talking little dovish think going right back 2800 2900 target range weve sampp 500 scott wren wells fargo                                                                              \n",
       "1  stock market massively since election taking little pause people want see happens midterms want stocks go strongly suggest voting democrat like venezuela financial model high taxes amp open borders   \n",
       "\n",
       "   target  \n",
       "0  1       \n",
       "1  1       "
      ]
     },
     "execution_count": 18,
     "metadata": {},
     "output_type": "execute_result"
    }
   ],
   "source": [
    "# 文章をクリーニングする関数\n",
    "def tweet_clean(input):\n",
    "    clean = ''.join([char for char in input if char not in string.punctuation]).lower()\n",
    "    clean = ''.join([char for char in clean if char not in \"“”’\" ])\n",
    "    clean = ' '.join([word for word in clean.split() if word not in (stopwords.words('english'))])\n",
    "    return clean\n",
    "\n",
    "# データへ適用\n",
    "masta['tweet'] = masta['tweet'].apply(tweet_clean)\n",
    "del masta['t']\n",
    "\n",
    "# 確認\n",
    "masta.head(2)"
   ]
  },
  {
   "cell_type": "markdown",
   "metadata": {},
   "source": [
    "句読点や記号など不要なデータが除外されて綺麗な文章になりました。今回はあくまで「基本」の処理です。これ以外にも数字を除外したり、類義語を一つにまとめるなど様々な処理があります。文章を解析するのはそれだけ大変って話です。\n",
    "\n",
    "データが綺麗になりましたので、ここで訓練データとテストデータへ切り分けましょう。時系列のデータなので切り分け方に工夫すべきですが・・今回は乱数を使って簡単に分割しちゃいます。（サボります）"
   ]
  },
  {
   "cell_type": "code",
   "execution_count": 19,
   "metadata": {},
   "outputs": [],
   "source": [
    "# テストデータと訓練データへ分割\n",
    "train, test = train_test_split(masta, test_size=0.2, random_state=1) "
   ]
  },
  {
   "cell_type": "markdown",
   "metadata": {},
   "source": [
    "# STEP7 Bag of Wordsへ変換\n",
    "\n",
    "モデル訓練を行う最後の処理は「Bag of Words」です。直訳すると「言葉の袋」です。Bag of wordsとは、文章に含まれる全単語を抽出して、それぞれが含まれるか含まれないかで「0」と「1」で表現する手法です。\n",
    "\n",
    "Bag of Wordsを使うメリットは処理が非常に簡単なことです。デメリットとしては、単語の順序などが考慮されないことです。詳しく説明すると長くなりますので興味がある方はご自身で調べてみて下さい。\n",
    "\n",
    "では、やってみましょう。Scikit-learnのCountVectorizer()のクラスを使うことで簡単に処理が可能です。下のコードをみてもわかりますが、単語抽出は「訓練データのみ」です。つまりテストデータにしか含まれない単語は情報として除外されます。"
   ]
  },
  {
   "cell_type": "code",
   "execution_count": 20,
   "metadata": {},
   "outputs": [],
   "source": [
    "# CountVectroizer()のインスタンス\n",
    "vect = CountVectorizer()\n",
    "\n",
    "# 訓練データを学習してBag of wordsへ変換\n",
    "X_train = vect.fit_transform(train['tweet'])\n",
    "\n",
    "# テストデータは変換のみ（訓練はしない）\n",
    "X_test = vect.transform(test['tweet'])"
   ]
  },
  {
   "cell_type": "markdown",
   "metadata": {},
   "source": [
    "続いてターゲットも訓練・テストデータ共にNumpy配列へ変換してあげましょう。"
   ]
  },
  {
   "cell_type": "code",
   "execution_count": 21,
   "metadata": {},
   "outputs": [],
   "source": [
    "# 訓練データのターゲット\n",
    "y_train = train['target'].values\n",
    " \n",
    "# テストデータのターゲット\n",
    "y_test = test['target'].values"
   ]
  },
  {
   "cell_type": "markdown",
   "metadata": {},
   "source": [
    "# STEP8 モデル訓練と評価\n",
    "\n",
    "ここまで来たら後は簡単。\n",
    "\n",
    "冒頭でも話しましたが今回使うアルゴリズムはナイーブベイズを使います。ナイーブベイズとは、条件付き確率「ベイズの定理」を基にした機械学習の分類手法の一つです。\n",
    "\n",
    "ではScikit-learnのナイーブベイズの使ってモデル訓練をしましょう。Scikit-learnには3種類のナイーブベイズが実装されていますが、今回は多項分布ナイーブベイズを利用します。"
   ]
  },
  {
   "cell_type": "code",
   "execution_count": 22,
   "metadata": {},
   "outputs": [
    {
     "data": {
      "text/plain": [
       "MultinomialNB(alpha=1.0, class_prior=None, fit_prior=True)"
      ]
     },
     "execution_count": 22,
     "metadata": {},
     "output_type": "execute_result"
    }
   ],
   "source": [
    "# 多項分布・ナイーブベイズのモデルを訓練\n",
    "clf = MultinomialNB()\n",
    "clf.fit(X_train, y_train)"
   ]
  },
  {
   "cell_type": "markdown",
   "metadata": {},
   "source": [
    "訓練完了です！では、まずは訓練データを使って推測してみましょう"
   ]
  },
  {
   "cell_type": "code",
   "execution_count": 23,
   "metadata": {},
   "outputs": [
    {
     "data": {
      "text/plain": [
       "array([[225,   3],\n",
       "       [  9, 163]])"
      ]
     },
     "execution_count": 23,
     "metadata": {},
     "output_type": "execute_result"
    }
   ],
   "source": [
    "# 訓練データから予測してみる\n",
    "train_pred = clf.predict(X_train)\n",
    " \n",
    "# 混同行列を表示\n",
    "confusion_matrix(y_train, train_pred)"
   ]
  },
  {
   "cell_type": "code",
   "execution_count": 24,
   "metadata": {},
   "outputs": [
    {
     "data": {
      "text/plain": [
       "0.97"
      ]
     },
     "execution_count": 24,
     "metadata": {},
     "output_type": "execute_result"
    }
   ],
   "source": [
    "# 正解率\n",
    "accuracy_score(y_train, train_pred)"
   ]
  },
  {
   "cell_type": "markdown",
   "metadata": {},
   "source": [
    "いよいよ本番"
   ]
  },
  {
   "cell_type": "code",
   "execution_count": 25,
   "metadata": {},
   "outputs": [
    {
     "data": {
      "text/plain": [
       "array([[38, 16],\n",
       "       [26, 21]])"
      ]
     },
     "execution_count": 25,
     "metadata": {},
     "output_type": "execute_result"
    }
   ],
   "source": [
    "# テストデータで予測\n",
    "test_pred = clf.predict(X_test)\n",
    " \n",
    "# 混同行列を表示\n",
    "confusion_matrix(y_test, test_pred)"
   ]
  },
  {
   "cell_type": "code",
   "execution_count": 26,
   "metadata": {},
   "outputs": [
    {
     "data": {
      "text/plain": [
       "0.5841584158415841"
      ]
     },
     "execution_count": 26,
     "metadata": {},
     "output_type": "execute_result"
    }
   ],
   "source": [
    "# 正解率\n",
    "accuracy_score(y_test, test_pred)"
   ]
  },
  {
   "cell_type": "markdown",
   "metadata": {},
   "source": [
    "推測した結果をローソク足に落として確認してみましょう。テストデータの12番目のデータを確認してみます。"
   ]
  },
  {
   "cell_type": "code",
   "execution_count": 27,
   "metadata": {},
   "outputs": [
    {
     "name": "stdout",
     "output_type": "stream",
     "text": [
      "1\n",
      "=====================\n",
      "tweet     rt usmc live white house sgt maj john canley becomes 300th marine receive medal honor httpstcosd93rrqaoz\n",
      "target    1                                                                                                       \n",
      "Name: 119, dtype: object\n"
     ]
    }
   ],
   "source": [
    "print(test_pred[12])\n",
    "print(\"=====================\")\n",
    "print(test.iloc[12]) "
   ]
  },
  {
   "cell_type": "markdown",
   "metadata": {},
   "source": [
    "こちらのデータは正解ラベルが「1」。つまりトランプ砲が放たれた5分後にドル円のレートが上昇したサンプルです。\n",
    "\n",
    "こちらのツイートの発言時間をデータから探してあげましょう。Pandasのquery()を使って文字列検索を行います。"
   ]
  },
  {
   "cell_type": "code",
   "execution_count": 28,
   "metadata": {},
   "outputs": [
    {
     "data": {
      "text/html": [
       "<div>\n",
       "<style scoped>\n",
       "    .dataframe tbody tr th:only-of-type {\n",
       "        vertical-align: middle;\n",
       "    }\n",
       "\n",
       "    .dataframe tbody tr th {\n",
       "        vertical-align: top;\n",
       "    }\n",
       "\n",
       "    .dataframe thead th {\n",
       "        text-align: right;\n",
       "    }\n",
       "</style>\n",
       "<table border=\"1\" class=\"dataframe\">\n",
       "  <thead>\n",
       "    <tr style=\"text-align: right;\">\n",
       "      <th></th>\n",
       "      <th>tweet</th>\n",
       "      <th>jst</th>\n",
       "    </tr>\n",
       "  </thead>\n",
       "  <tbody>\n",
       "    <tr>\n",
       "      <td>156</td>\n",
       "      <td>RT @USMC: LIVE from the White House: Sgt. Maj. John Canley becomes the 300th Marine to receive the Medal of Honor. https://t.co/sD93rrqaoZ</td>\n",
       "      <td>2018-10-17 06:12:00</td>\n",
       "    </tr>\n",
       "  </tbody>\n",
       "</table>\n",
       "</div>"
      ],
      "text/plain": [
       "                                                                                                                                          tweet  \\\n",
       "156  RT @USMC: LIVE from the White House: Sgt. Maj. John Canley becomes the 300th Marine to receive the Medal of Honor. https://t.co/sD93rrqaoZ   \n",
       "\n",
       "                    jst  \n",
       "156 2018-10-17 06:12:00  "
      ]
     },
     "execution_count": 28,
     "metadata": {},
     "output_type": "execute_result"
    }
   ],
   "source": [
    "# 該当ツイートの時間を確認\n",
    "trump.query('tweet.str.contains(\"300th\")', engine='python')"
   ]
  },
  {
   "cell_type": "markdown",
   "metadata": {},
   "source": [
    "時間がわかりましたので、為替データから当該時間のデータを切り出してローソク足に出力してみます。"
   ]
  },
  {
   "cell_type": "code",
   "execution_count": 29,
   "metadata": {},
   "outputs": [
    {
     "data": {
      "text/html": [
       "<div>\n",
       "<style scoped>\n",
       "    .dataframe tbody tr th:only-of-type {\n",
       "        vertical-align: middle;\n",
       "    }\n",
       "\n",
       "    .dataframe tbody tr th {\n",
       "        vertical-align: top;\n",
       "    }\n",
       "\n",
       "    .dataframe thead th {\n",
       "        text-align: right;\n",
       "    }\n",
       "</style>\n",
       "<table border=\"1\" class=\"dataframe\">\n",
       "  <thead>\n",
       "    <tr style=\"text-align: right;\">\n",
       "      <th></th>\n",
       "      <th>c</th>\n",
       "      <th>o</th>\n",
       "      <th>h</th>\n",
       "      <th>l</th>\n",
       "      <th>v</th>\n",
       "    </tr>\n",
       "    <tr>\n",
       "      <th>t</th>\n",
       "      <th></th>\n",
       "      <th></th>\n",
       "      <th></th>\n",
       "      <th></th>\n",
       "      <th></th>\n",
       "    </tr>\n",
       "  </thead>\n",
       "  <tbody>\n",
       "    <tr>\n",
       "      <td>2018-09-03 09:00:00</td>\n",
       "      <td>111.151</td>\n",
       "      <td>111.148</td>\n",
       "      <td>111.156</td>\n",
       "      <td>111.143</td>\n",
       "      <td>24</td>\n",
       "    </tr>\n",
       "    <tr>\n",
       "      <td>2018-09-03 09:01:00</td>\n",
       "      <td>111.120</td>\n",
       "      <td>111.153</td>\n",
       "      <td>111.156</td>\n",
       "      <td>111.106</td>\n",
       "      <td>39</td>\n",
       "    </tr>\n",
       "  </tbody>\n",
       "</table>\n",
       "</div>"
      ],
      "text/plain": [
       "                           c        o        h        l   v\n",
       "t                                                          \n",
       "2018-09-03 09:00:00  111.151  111.148  111.156  111.143  24\n",
       "2018-09-03 09:01:00  111.120  111.153  111.156  111.106  39"
      ]
     },
     "execution_count": 29,
     "metadata": {},
     "output_type": "execute_result"
    }
   ],
   "source": [
    "rate_data = pd.read_csv(\"usd_1min_trump.csv\",index_col=0,parse_dates=True)\n",
    "rate_data.head(2)"
   ]
  },
  {
   "cell_type": "code",
   "execution_count": 30,
   "metadata": {},
   "outputs": [
    {
     "data": {
      "text/html": [
       "<div>\n",
       "<style scoped>\n",
       "    .dataframe tbody tr th:only-of-type {\n",
       "        vertical-align: middle;\n",
       "    }\n",
       "\n",
       "    .dataframe tbody tr th {\n",
       "        vertical-align: top;\n",
       "    }\n",
       "\n",
       "    .dataframe thead th {\n",
       "        text-align: right;\n",
       "    }\n",
       "</style>\n",
       "<table border=\"1\" class=\"dataframe\">\n",
       "  <thead>\n",
       "    <tr style=\"text-align: right;\">\n",
       "      <th></th>\n",
       "      <th>o</th>\n",
       "      <th>c</th>\n",
       "      <th>h</th>\n",
       "      <th>l</th>\n",
       "    </tr>\n",
       "    <tr>\n",
       "      <th>t</th>\n",
       "      <th></th>\n",
       "      <th></th>\n",
       "      <th></th>\n",
       "      <th></th>\n",
       "    </tr>\n",
       "  </thead>\n",
       "  <tbody>\n",
       "    <tr>\n",
       "      <td>2018-09-03 09:00:00</td>\n",
       "      <td>111.148</td>\n",
       "      <td>111.151</td>\n",
       "      <td>111.156</td>\n",
       "      <td>111.143</td>\n",
       "    </tr>\n",
       "    <tr>\n",
       "      <td>2018-09-03 09:01:00</td>\n",
       "      <td>111.153</td>\n",
       "      <td>111.120</td>\n",
       "      <td>111.156</td>\n",
       "      <td>111.106</td>\n",
       "    </tr>\n",
       "  </tbody>\n",
       "</table>\n",
       "</div>"
      ],
      "text/plain": [
       "                           o        c        h        l\n",
       "t                                                      \n",
       "2018-09-03 09:00:00  111.148  111.151  111.156  111.143\n",
       "2018-09-03 09:01:00  111.153  111.120  111.156  111.106"
      ]
     },
     "execution_count": 30,
     "metadata": {},
     "output_type": "execute_result"
    }
   ],
   "source": [
    "rate_data = rate_data[['o','c','h','l']]\n",
    "rate_data.head(2)"
   ]
  },
  {
   "cell_type": "code",
   "execution_count": 31,
   "metadata": {},
   "outputs": [
    {
     "data": {
      "text/html": [
       "<div>\n",
       "<style scoped>\n",
       "    .dataframe tbody tr th:only-of-type {\n",
       "        vertical-align: middle;\n",
       "    }\n",
       "\n",
       "    .dataframe tbody tr th {\n",
       "        vertical-align: top;\n",
       "    }\n",
       "\n",
       "    .dataframe thead th {\n",
       "        text-align: right;\n",
       "    }\n",
       "</style>\n",
       "<table border=\"1\" class=\"dataframe\">\n",
       "  <thead>\n",
       "    <tr style=\"text-align: right;\">\n",
       "      <th></th>\n",
       "      <th>Open</th>\n",
       "      <th>Close</th>\n",
       "      <th>High</th>\n",
       "      <th>Low</th>\n",
       "    </tr>\n",
       "    <tr>\n",
       "      <th>Date</th>\n",
       "      <th></th>\n",
       "      <th></th>\n",
       "      <th></th>\n",
       "      <th></th>\n",
       "    </tr>\n",
       "  </thead>\n",
       "  <tbody>\n",
       "    <tr>\n",
       "      <td>2018-09-03 09:00:00</td>\n",
       "      <td>111.148</td>\n",
       "      <td>111.151</td>\n",
       "      <td>111.156</td>\n",
       "      <td>111.143</td>\n",
       "    </tr>\n",
       "    <tr>\n",
       "      <td>2018-09-03 09:01:00</td>\n",
       "      <td>111.153</td>\n",
       "      <td>111.120</td>\n",
       "      <td>111.156</td>\n",
       "      <td>111.106</td>\n",
       "    </tr>\n",
       "  </tbody>\n",
       "</table>\n",
       "</div>"
      ],
      "text/plain": [
       "                        Open    Close     High      Low\n",
       "Date                                                   \n",
       "2018-09-03 09:00:00  111.148  111.151  111.156  111.143\n",
       "2018-09-03 09:01:00  111.153  111.120  111.156  111.106"
      ]
     },
     "execution_count": 31,
     "metadata": {},
     "output_type": "execute_result"
    }
   ],
   "source": [
    "rate_data.index.name = 'Date'# 必須\n",
    "rate_data = rate_data.rename(columns={'c': 'Close', 'o': 'Open', 'h': 'High', 'l': 'Low', 'v': 'Volume'})# 必須\n",
    "rate_data.head(2)"
   ]
  },
  {
   "cell_type": "code",
   "execution_count": 32,
   "metadata": {},
   "outputs": [
    {
     "data": {
      "text/html": [
       "<div>\n",
       "<style scoped>\n",
       "    .dataframe tbody tr th:only-of-type {\n",
       "        vertical-align: middle;\n",
       "    }\n",
       "\n",
       "    .dataframe tbody tr th {\n",
       "        vertical-align: top;\n",
       "    }\n",
       "\n",
       "    .dataframe thead th {\n",
       "        text-align: right;\n",
       "    }\n",
       "</style>\n",
       "<table border=\"1\" class=\"dataframe\">\n",
       "  <thead>\n",
       "    <tr style=\"text-align: right;\">\n",
       "      <th></th>\n",
       "      <th>Open</th>\n",
       "      <th>Close</th>\n",
       "      <th>High</th>\n",
       "      <th>Low</th>\n",
       "    </tr>\n",
       "    <tr>\n",
       "      <th>Date</th>\n",
       "      <th></th>\n",
       "      <th></th>\n",
       "      <th></th>\n",
       "      <th></th>\n",
       "    </tr>\n",
       "  </thead>\n",
       "  <tbody>\n",
       "    <tr>\n",
       "      <td>2018-10-31 08:58:00</td>\n",
       "      <td>113.066</td>\n",
       "      <td>113.069</td>\n",
       "      <td>113.069</td>\n",
       "      <td>113.063</td>\n",
       "    </tr>\n",
       "    <tr>\n",
       "      <td>2018-10-31 08:59:00</td>\n",
       "      <td>113.069</td>\n",
       "      <td>113.078</td>\n",
       "      <td>113.078</td>\n",
       "      <td>113.069</td>\n",
       "    </tr>\n",
       "  </tbody>\n",
       "</table>\n",
       "</div>"
      ],
      "text/plain": [
       "                        Open    Close     High      Low\n",
       "Date                                                   \n",
       "2018-10-31 08:58:00  113.066  113.069  113.069  113.063\n",
       "2018-10-31 08:59:00  113.069  113.078  113.078  113.069"
      ]
     },
     "execution_count": 32,
     "metadata": {},
     "output_type": "execute_result"
    }
   ],
   "source": [
    "rate_data.tail(2)"
   ]
  },
  {
   "cell_type": "code",
   "execution_count": 33,
   "metadata": {},
   "outputs": [
    {
     "data": {
      "image/png": "[encoded data removed]",
      "text/plain": [
       "<Figure size 576x414 with 2 Axes>"
      ]
     },
     "metadata": {},
     "output_type": "display_data"
    }
   ],
   "source": [
    "iday = rate_data.loc['2018-10-17 06:10':'2018-10-17 07:20',:]\n",
    "mpf.plot(iday,type='candle')#,mav=(7,12))"
   ]
  },
  {
   "cell_type": "code",
   "execution_count": null,
   "metadata": {},
   "outputs": [],
   "source": []
  }
 ],
 "metadata": {
  "kernelspec": {
   "display_name": "Python 3",
   "language": "python",
   "name": "python3"
  },
  "language_info": {
   "codemirror_mode": {
    "name": "ipython",
    "version": 3
   },
   "file_extension": ".py",
   "mimetype": "text/x-python",
   "name": "python",
   "nbconvert_exporter": "python",
   "pygments_lexer": "ipython3",
   "version": "3.7.4"
  }
 },
 "nbformat": 4,
 "nbformat_minor": 2
}
